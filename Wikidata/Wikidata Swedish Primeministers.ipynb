{
 "cells": [
  {
   "cell_type": "markdown",
   "metadata": {},
   "source": [
    "## Test access Wikidata and get Swedish Prime ministers\n",
    "\n"
   ]
  },
  {
   "cell_type": "code",
   "execution_count": 1,
   "metadata": {},
   "outputs": [],
   "source": [
    "!pip install --quiet sparqlwrapper"
   ]
  },
  {
   "cell_type": "code",
   "execution_count": 2,
   "metadata": {},
   "outputs": [
    {
     "name": "stderr",
     "output_type": "stream",
     "text": [
      "/opt/conda/lib/python3.7/site-packages/IPython/core/display.py:689: UserWarning: Consider using IPython.display.IFrame instead\n",
      "  warnings.warn(\"Consider using IPython.display.IFrame instead\")\n"
     ]
    },
    {
     "data": {
      "text/html": [
       "<iframe width=\"560\" height=\"315\" src=\"https://www.youtube.com/embed/AR66WVBViBQ?rel=0&amp;controls=0&amp;showinfo=0\" frameborder=\"0\" allowfullscreen></iframe>"
      ],
      "text/plain": [
       "<IPython.core.display.HTML object>"
      ]
     },
     "execution_count": 2,
     "metadata": {},
     "output_type": "execute_result"
    }
   ],
   "source": [
    "from IPython.display import HTML\n",
    "\n",
    "# Youtube\n",
    "HTML('<iframe width=\"560\" height=\"315\" src=\"https://www.youtube.com/embed/AR66WVBViBQ?rel=0&amp;controls=0&amp;showinfo=0\" frameborder=\"0\" allowfullscreen></iframe>')\n"
   ]
  },
  {
   "cell_type": "code",
   "execution_count": 7,
   "metadata": {},
   "outputs": [
    {
     "name": "stdout",
     "output_type": "stream",
     "text": [
      "Arvid Posse 1880-04-19T00:00:00Z  -  1883-06-13T00:00:00Z\n",
      "Carl Johan Thyselius 1883-06-13T00:00:00Z  -  1884-05-16T00:00:00Z\n",
      "Robert Themptander 1884-05-16T00:00:00Z  -  1888-02-06T00:00:00Z\n",
      "Gillis Bildt 1888-02-06T00:00:00Z  -  1889-10-12T00:00:00Z\n",
      "Gustaf Åkerhielm 1889-10-12T00:00:00Z  -  1891-07-10T00:00:00Z\n",
      "Erik Gustaf Boström 1891-07-10T00:00:00Z  -  1900-09-12T00:00:00Z\n",
      "Fredrik von Otter 1900-09-12T00:00:00Z  -  1902-07-05T00:00:00Z\n",
      "Erik Gustaf Boström 1902-07-05T00:00:00Z  -  1905-04-13T00:00:00Z\n",
      "Johan Ramstedt 1905-04-13T00:00:00Z  -  1905-08-02T00:00:00Z\n",
      "Christian Lundeberg 1905-08-02T00:00:00Z  -  1905-11-07T00:00:00Z\n",
      "Karl Staaff 1905-11-07T00:00:00Z  -  1906-05-29T00:00:00Z\n",
      "Arvid Lindman 1906-05-29T00:00:00Z  -  1911-10-07T00:00:00Z\n",
      "Karl Staaff 1911-10-07T00:00:00Z  -  1914-02-17T00:00:00Z\n",
      "Hjalmar Hammarskjöld 1914-02-17T00:00:00Z  -  1917-03-30T00:00:00Z\n",
      "Carl Swartz 1917-03-30T00:00:00Z  -  1917-10-19T00:00:00Z\n",
      "Nils Edén 1917-10-19T00:00:00Z  -  1920-03-10T00:00:00Z\n",
      "Hjalmar Branting 1920-03-10T00:00:00Z  -  1920-10-27T00:00:00Z\n",
      "Gerhard Louis De Geer 1920-10-27T00:00:00Z  -  1921-02-23T00:00:00Z\n",
      "Oscar von Sydow 1921-02-23T00:00:00Z  -  1921-10-13T00:00:00Z\n",
      "Hjalmar Branting 1921-10-13T00:00:00Z  -  1923-04-19T00:00:00Z\n",
      "Ernst Trygger 1923-04-19T00:00:00Z  -  1924-10-18T00:00:00Z\n",
      "Hjalmar Branting 1924-10-18T00:00:00Z  -  1925-01-24T00:00:00Z\n",
      "Rickard Sandler 1925-01-24T00:00:00Z  -  1926-06-07T00:00:00Z\n",
      "Carl Gustaf Ekman 1926-06-07T00:00:00Z  -  1928-10-02T00:00:00Z\n",
      "Arvid Lindman 1928-10-02T00:00:00Z  -  1930-06-07T00:00:00Z\n",
      "Carl Gustaf Ekman 1930-06-07T00:00:00Z  -  1932-08-06T00:00:00Z\n",
      "Felix Hamrin 1932-08-06T00:00:00Z  -  1932-09-24T00:00:00Z\n",
      "Per Albin Hansson 1932-09-24T00:00:00Z  -  1936-06-19T00:00:00Z\n",
      "Axel Pehrsson-Bramstorp 1936-06-19T00:00:00Z  -  1936-09-28T00:00:00Z\n",
      "Per Albin Hansson 1936-09-28T00:00:00Z  -  1946-10-06T00:00:00Z\n",
      "Tage Erlander 1946-10-11T00:00:00Z  -  1969-10-14T00:00:00Z\n",
      "Olof Palme 1969-10-14T00:00:00Z  -  1976-10-08T00:00:00Z\n",
      "Thorbjörn Fälldin 1976-10-08T00:00:00Z  -  1978-10-18T00:00:00Z\n",
      "Ola Ullsten 1978-10-18T00:00:00Z  -  1979-10-12T00:00:00Z\n",
      "Thorbjörn Fälldin 1979-10-12T00:00:00Z  -  1982-10-08T00:00:00Z\n",
      "Olof Palme 1982-10-08T00:00:00Z  -  1986-02-28T00:00:00Z\n",
      "Ingvar Carlsson 1986-03-01T00:00:00Z  -  1991-10-04T00:00:00Z\n",
      "Carl Bildt 1991-10-04T00:00:00Z  -  1994-10-07T00:00:00Z\n",
      "Ingvar Carlsson 1994-10-07T00:00:00Z  -  1996-03-22T00:00:00Z\n",
      "Göran Persson 1996-03-22T00:00:00Z  -  2006-10-06T00:00:00Z\n",
      "Fredrik Reinfeldt 2006-10-06T00:00:00Z  -  2014-10-03T00:00:00Z\n"
     ]
    }
   ],
   "source": [
    "# pip install sparqlwrapper\n",
    "# https://rdflib.github.io/sparqlwrapper/\n",
    "\n",
    "from SPARQLWrapper import SPARQLWrapper, JSON\n",
    "\n",
    "endpoint_url = \"https://query.wikidata.org/sparql\"\n",
    "\n",
    "query = \"\"\"# Query Find in WikiData people with position held P39 Swedish Prime minister Q687075\n",
    "#\n",
    "\n",
    "select  ?person ?personLabel ?personDescription ?replacedbyLabel   ?start ?pic ?end {\n",
    "{\n",
    "   ?person wdt:P39 wd:Q687075;\n",
    "         p:P39 [\n",
    "           ps:P39 wd:Q687075;\n",
    "           pq:P580 ?start;\n",
    "           pq:P582 ?end;\n",
    "           pq:P1365 ?replace; #Replace\n",
    "           pq:P1366 ?replacedby  #Replaced by\n",
    "         ].\n",
    "     OPTIONAL{ ?person wdt:P18 ?pic .} \t\t\t\t\t# If we have an illustration\n",
    "\n",
    " }   \n",
    "  SERVICE wikibase:label { bd:serviceParam wikibase:language \"en\"}\n",
    " }\n",
    "Order by ?start\"\"\"\n",
    "\n",
    "\n",
    "def get_results(endpoint_url, query):\n",
    "    sparql = SPARQLWrapper(endpoint_url)\n",
    "    sparql.setQuery(query)\n",
    "    sparql.setReturnFormat(JSON)\n",
    "    return sparql.query().convert()\n",
    "\n",
    "\n",
    "results = get_results(endpoint_url, query)\n",
    "\n",
    "for result in results[\"results\"][\"bindings\"]:\n",
    "    print(result[\"personLabel\"][\"value\"], result[\"start\"][\"value\"], \" - \",  result[\"end\"][\"value\"])\n",
    "    #print(result)\n",
    "    "
   ]
  },
  {
   "cell_type": "code",
   "execution_count": 6,
   "metadata": {},
   "outputs": [
    {
     "name": "stdout",
     "output_type": "stream",
     "text": [
      "{'place': {'type': 'uri', 'value': 'http://www.wikidata.org/entity/Q9686'}, 'location': {'datatype': 'http://www.opengis.net/ont/geosparql#wktLiteral', 'type': 'literal', 'value': 'Point(13.401666666 52.473611111)'}, 'placeLabel': {'xml:lang': 'en', 'type': 'literal', 'value': 'Berlin Tempelhof Airport'}}\n",
      "Berlin Tempelhof Airport\n",
      "{'place': {'type': 'uri', 'value': 'http://www.wikidata.org/entity/Q9689'}, 'location': {'datatype': 'http://www.opengis.net/ont/geosparql#wktLiteral', 'type': 'literal', 'value': 'Point(13.520556 52.378611)'}, 'placeLabel': {'xml:lang': 'en', 'type': 'literal', 'value': 'Berlin Schönefeld Airport'}}\n",
      "Berlin Schönefeld Airport\n",
      "{'place': {'type': 'uri', 'value': 'http://www.wikidata.org/entity/Q9688'}, 'location': {'datatype': 'http://www.opengis.net/ont/geosparql#wktLiteral', 'type': 'literal', 'value': 'Point(13.287778 52.559722)'}, 'placeLabel': {'xml:lang': 'en', 'type': 'literal', 'value': 'Berlin Tegel Airport'}}\n",
      "Berlin Tegel Airport\n",
      "{'place': {'type': 'uri', 'value': 'http://www.wikidata.org/entity/Q20452704'}, 'location': {'datatype': 'http://www.opengis.net/ont/geosparql#wktLiteral', 'type': 'literal', 'value': 'Point(13.783612 53.356112)'}, 'placeLabel': {'xml:lang': 'en', 'type': 'literal', 'value': 'Dedelow Airport'}}\n",
      "Dedelow Airport\n",
      "{'place': {'type': 'uri', 'value': 'http://www.wikidata.org/entity/Q20456666'}, 'location': {'datatype': 'http://www.opengis.net/ont/geosparql#wktLiteral', 'type': 'literal', 'value': 'Point(12.914167 52.626388)'}, 'placeLabel': {'xml:lang': 'en', 'type': 'literal', 'value': 'Nauen Airport'}}\n",
      "Nauen Airport\n",
      "{'place': {'type': 'uri', 'value': 'http://www.wikidata.org/entity/Q12694932'}, 'location': {'datatype': 'http://www.opengis.net/ont/geosparql#wktLiteral', 'type': 'literal', 'value': 'Point(12.541945 52.826388)'}, 'placeLabel': {'xml:lang': 'en', 'type': 'literal', 'value': 'Segeletz Airport'}}\n",
      "Segeletz Airport\n",
      "{'place': {'type': 'uri', 'value': 'http://www.wikidata.org/entity/Q12693701'}, 'location': {'datatype': 'http://www.opengis.net/ont/geosparql#wktLiteral', 'type': 'literal', 'value': 'Point(12.669667 52.144167)'}, 'placeLabel': {'xml:lang': 'en', 'type': 'literal', 'value': 'Lusse Airport'}}\n",
      "Lusse Airport\n",
      "{'place': {'type': 'uri', 'value': 'http://www.wikidata.org/entity/Q12692538'}, 'location': {'datatype': 'http://www.opengis.net/ont/geosparql#wktLiteral', 'type': 'literal', 'value': 'Point(14.59311 52.1934)'}, 'placeLabel': {'xml:lang': 'en', 'type': 'literal', 'value': 'Eisenhuttenstadt Airport'}}\n",
      "Eisenhuttenstadt Airport\n",
      "{'place': {'type': 'uri', 'value': 'http://www.wikidata.org/entity/Q12692538'}, 'location': {'datatype': 'http://www.opengis.net/ont/geosparql#wktLiteral', 'type': 'literal', 'value': 'Point(14.585555 52.197222)'}, 'placeLabel': {'xml:lang': 'en', 'type': 'literal', 'value': 'Eisenhuttenstadt Airport'}}\n",
      "Eisenhuttenstadt Airport\n",
      "{'place': {'type': 'uri', 'value': 'http://www.wikidata.org/entity/Q12693460'}, 'location': {'datatype': 'http://www.opengis.net/ont/geosparql#wktLiteral', 'type': 'literal', 'value': 'Point(12.425278 52.918888)'}, 'placeLabel': {'xml:lang': 'en', 'type': 'literal', 'value': 'Kyritz Airport'}}\n",
      "Kyritz Airport\n",
      "{'place': {'type': 'uri', 'value': 'http://www.wikidata.org/entity/Q160556'}, 'location': {'datatype': 'http://www.opengis.net/ont/geosparql#wktLiteral', 'type': 'literal', 'value': 'Point(13.503333333 52.366666666)'}, 'placeLabel': {'xml:lang': 'en', 'type': 'literal', 'value': 'Berlin Brandenburg Airport'}}\n",
      "Berlin Brandenburg Airport\n",
      "{'place': {'type': 'uri', 'value': 'http://www.wikidata.org/entity/Q563799'}, 'location': {'datatype': 'http://www.opengis.net/ont/geosparql#wktLiteral', 'type': 'literal', 'value': 'Point(13.5167 52.4333)'}, 'placeLabel': {'xml:lang': 'en', 'type': 'literal', 'value': 'Johannisthal Air Field'}}\n",
      "Johannisthal Air Field\n",
      "{'place': {'type': 'uri', 'value': 'http://www.wikidata.org/entity/Q35272046'}, 'location': {'datatype': 'http://www.opengis.net/ont/geosparql#wktLiteral', 'type': 'literal', 'value': 'Point(14.666666666 52.266666666)'}, 'placeLabel': {'xml:lang': 'en', 'type': 'literal', 'value': 'Kunice'}}\n",
      "Kunice\n",
      "{'place': {'type': 'uri', 'value': 'http://www.wikidata.org/entity/Q35249408'}, 'location': {'datatype': 'http://www.opengis.net/ont/geosparql#wktLiteral', 'type': 'literal', 'value': 'Point(14.4331 52.9427)'}, 'placeLabel': {'xml:lang': 'en', 'type': 'literal', 'value': 'Chojna'}}\n",
      "Chojna\n"
     ]
    }
   ],
   "source": [
    "from SPARQLWrapper import SPARQLWrapper, JSON\n",
    "\n",
    "endpoint_url = \"https://query.wikidata.org/sparql\"\n",
    "\n",
    "query = \"\"\"SELECT ?place ?placeLabel ?location\n",
    "WHERE\n",
    "{\n",
    "  # Berlin coordinates\n",
    "  wd:Q64 wdt:P625 ?berlinLoc .\n",
    "  SERVICE wikibase:around {\n",
    "    ?place wdt:P625 ?location .\n",
    "    bd:serviceParam wikibase:center ?berlinLoc .\n",
    "    bd:serviceParam wikibase:radius \"100\" .\n",
    "  } .\n",
    "  # Is an airport\n",
    "  FILTER EXISTS { ?place wdt:P31/wdt:P279* wd:Q1248784 } .\n",
    "  SERVICE wikibase:label {\n",
    "    bd:serviceParam wikibase:language \"[AUTO_LANGUAGE],en\" .\n",
    "  } \n",
    "}\"\"\"\n",
    "\n",
    "\n",
    "def get_results(endpoint_url, query):\n",
    "    sparql = SPARQLWrapper(endpoint_url)\n",
    "    sparql.setQuery(query)\n",
    "    sparql.setReturnFormat(JSON)\n",
    "    return sparql.query().convert()\n",
    "\n",
    "\n",
    "results = get_results(endpoint_url, query)\n",
    "\n",
    "for result in results[\"results\"][\"bindings\"]:\n",
    "    print(result)\n",
    "    print(result[\"placeLabel\"][\"value\"])"
   ]
  },
  {
   "cell_type": "code",
   "execution_count": null,
   "metadata": {},
   "outputs": [],
   "source": []
  }
 ],
 "metadata": {
  "kernelspec": {
   "display_name": "Python 3",
   "language": "python",
   "name": "python3"
  },
  "language_info": {
   "codemirror_mode": {
    "name": "ipython",
    "version": 3
   },
   "file_extension": ".py",
   "mimetype": "text/x-python",
   "name": "python",
   "nbconvert_exporter": "python",
   "pygments_lexer": "ipython3",
   "version": "3.7.1"
  }
 },
 "nbformat": 4,
 "nbformat_minor": 2
}
