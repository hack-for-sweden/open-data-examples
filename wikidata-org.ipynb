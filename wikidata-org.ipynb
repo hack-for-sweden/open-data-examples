{
 "cells": [
  {
   "cell_type": "markdown",
   "metadata": {},
   "source": [
    "## Wikidata.org\n",
    "\n",
    "Wikidata.org allows you to get information from Wiki sites through an API.\n",
    "\n",
    "Using the API requires you to write the query in [SPARQL](https://en.wikipedia.org/wiki/SPARQL), but there is plenty of example queries to work from at https://query.wikidata.org allowing you to get started without previous knowledge about this SPARQL."
   ]
  },
  {
   "cell_type": "code",
   "execution_count": 1,
   "metadata": {},
   "outputs": [
    {
     "data": {
      "image/jpeg": "[encoded data removed]",
      "text/html": [
       "\n",
       "        <iframe\n",
       "            width=\"400\"\n",
       "            height=\"300\"\n",
       "            src=\"https://www.youtube.com/embed/AR66WVBViBQ\"\n",
       "            frameborder=\"0\"\n",
       "            allowfullscreen\n",
       "        ></iframe>\n",
       "        "
      ],
      "text/plain": [
       "<IPython.lib.display.YouTubeVideo at 0x7f4e667a8240>"
      ]
     },
     "execution_count": 1,
     "metadata": {},
     "output_type": "execute_result"
    }
   ],
   "source": [
    "from IPython.display import YouTubeVideo\n",
    "YouTubeVideo(\"AR66WVBViBQ\")"
   ]
  },
  {
   "cell_type": "markdown",
   "metadata": {},
   "source": [
    "## Example: Swedish Prime ministers "
   ]
  },
  {
   "cell_type": "code",
   "execution_count": 2,
   "metadata": {},
   "outputs": [],
   "source": [
    "# Install a dependency using a terminal command\n",
    "!pip install --quiet sparqlwrapper\n",
    "\n",
    "# Allows us to use IPython.display.JSON\n",
    "import IPython.display"
   ]
  },
  {
   "cell_type": "code",
   "execution_count": 3,
   "metadata": {},
   "outputs": [
    {
     "data": {
      "application/json": {
       "head": {
        "vars": [
         "person",
         "personLabel",
         "personDescription",
         "replacedbyLabel",
         "start",
         "pic",
         "end"
        ]
       },
       "results": {
        "bindings": [
         {
          "end": {
           "datatype": "http://www.w3.org/2001/XMLSchema#dateTime",
           "type": "literal",
           "value": "1883-06-13T00:00:00Z"
          },
          "person": {
           "type": "uri",
           "value": "http://www.wikidata.org/entity/Q52951"
          },
          "personDescription": {
           "type": "literal",
           "value": "Swedish 19th century prime minister",
           "xml:lang": "en"
          },
          "personLabel": {
           "type": "literal",
           "value": "Arvid Posse",
           "xml:lang": "en"
          },
          "pic": {
           "type": "uri",
           "value": "http://commons.wikimedia.org/wiki/Special:FilePath/Arvid%20Posse.jpg"
          },
          "replacedbyLabel": {
           "type": "literal",
           "value": "Carl Johan Thyselius",
           "xml:lang": "en"
          },
          "start": {
           "datatype": "http://www.w3.org/2001/XMLSchema#dateTime",
           "type": "literal",
           "value": "1880-04-19T00:00:00Z"
          }
         },
         {
          "end": {
           "datatype": "http://www.w3.org/2001/XMLSchema#dateTime",
           "type": "literal",
           "value": "1884-05-16T00:00:00Z"
          },
          "person": {
           "type": "uri",
           "value": "http://www.wikidata.org/entity/Q52956"
          },
          "personDescription": {
           "type": "literal",
           "value": "Swedish 19th century prime minister",
           "xml:lang": "en"
          },
          "personLabel": {
           "type": "literal",
           "value": "Carl Johan Thyselius",
           "xml:lang": "en"
          },
          "pic": {
           "type": "uri",
           "value": "http://commons.wikimedia.org/wiki/Special:FilePath/Carl%20Johan%20Thyselius%20%28Hildebrand%20Sveriges%20historia%29.jpg"
          },
          "replacedbyLabel": {
           "type": "literal",
           "value": "Robert Themptander",
           "xml:lang": "en"
          },
          "start": {
           "datatype": "http://www.w3.org/2001/XMLSchema#dateTime",
           "type": "literal",
           "value": "1883-06-13T00:00:00Z"
          }
         },
         {
          "end": {
           "datatype": "http://www.w3.org/2001/XMLSchema#dateTime",
           "type": "literal",
           "value": "1888-02-06T00:00:00Z"
          },
          "person": {
           "type": "uri",
           "value": "http://www.wikidata.org/entity/Q52958"
          },
          "personDescription": {
           "type": "literal",
           "value": "Swedish 19th century prime minister",
           "xml:lang": "en"
          },
          "personLabel": {
           "type": "literal",
           "value": "Robert Themptander",
           "xml:lang": "en"
          },
          "pic": {
           "type": "uri",
           "value": "http://commons.wikimedia.org/wiki/Special:FilePath/Oscar%20Robert%20Themptander%20%28from%20Hildebrand%2C%20Sveriges%20historia%29.jpg"
          },
          "replacedbyLabel": {
           "type": "literal",
           "value": "Gillis Bildt",
           "xml:lang": "en"
          },
          "start": {
           "datatype": "http://www.w3.org/2001/XMLSchema#dateTime",
           "type": "literal",
           "value": "1884-05-16T00:00:00Z"
          }
         },
         {
          "end": {
           "datatype": "http://www.w3.org/2001/XMLSchema#dateTime",
           "type": "literal",
           "value": "1889-10-12T00:00:00Z"
          },
          "person": {
           "type": "uri",
           "value": "http://www.wikidata.org/entity/Q52960"
          },
          "personDescription": {
           "type": "literal",
           "value": "Swedish 19th century prime minister",
           "xml:lang": "en"
          },
          "personLabel": {
           "type": "literal",
           "value": "Gillis Bildt",
           "xml:lang": "en"
          },
          "pic": {
           "type": "uri",
           "value": "http://commons.wikimedia.org/wiki/Special:FilePath/Gillis%20Bildt.jpg"
          },
          "replacedbyLabel": {
           "type": "literal",
           "value": "Gustaf Åkerhielm",
           "xml:lang": "en"
          },
          "start": {
           "datatype": "http://www.w3.org/2001/XMLSchema#dateTime",
           "type": "literal",
           "value": "1888-02-06T00:00:00Z"
          }
         },
         {
          "end": {
           "datatype": "http://www.w3.org/2001/XMLSchema#dateTime",
           "type": "literal",
           "value": "1891-07-10T00:00:00Z"
          },
          "person": {
           "type": "uri",
           "value": "http://www.wikidata.org/entity/Q52964"
          },
          "personDescription": {
           "type": "literal",
           "value": "Swedish 19th century prime minister",
           "xml:lang": "en"
          },
          "personLabel": {
           "type": "literal",
           "value": "Gustaf Åkerhielm",
           "xml:lang": "en"
          },
          "pic": {
           "type": "uri",
           "value": "http://commons.wikimedia.org/wiki/Special:FilePath/Gustaf%20%C3%85kerhielm.jpg"
          },
          "replacedbyLabel": {
           "type": "literal",
           "value": "Erik Gustaf Boström",
           "xml:lang": "en"
          },
          "start": {
           "datatype": "http://www.w3.org/2001/XMLSchema#dateTime",
           "type": "literal",
           "value": "1889-10-12T00:00:00Z"
          }
         },
         {
          "end": {
           "datatype": "http://www.w3.org/2001/XMLSchema#dateTime",
           "type": "literal",
           "value": "1900-09-12T00:00:00Z"
          },
          "person": {
           "type": "uri",
           "value": "http://www.wikidata.org/entity/Q52968"
          },
          "personDescription": {
           "type": "literal",
           "value": "Swedish 19ty/early 20th century prime minister",
           "xml:lang": "en"
          },
          "personLabel": {
           "type": "literal",
           "value": "Erik Gustaf Boström",
           "xml:lang": "en"
          },
          "pic": {
           "type": "uri",
           "value": "http://commons.wikimedia.org/wiki/Special:FilePath/E%20G%20Bostr%C3%B6m%20from%20Hildebrand%20Sveriges%20historia.jpg"
          },
          "replacedbyLabel": {
           "type": "literal",
           "value": "Fredrik von Otter",
           "xml:lang": "en"
          },
          "start": {
           "datatype": "http://www.w3.org/2001/XMLSchema#dateTime",
           "type": "literal",
           "value": "1891-07-10T00:00:00Z"
          }
         },
         {
          "end": {
           "datatype": "http://www.w3.org/2001/XMLSchema#dateTime",
           "type": "literal",
           "value": "1902-07-05T00:00:00Z"
          },
          "person": {
           "type": "uri",
           "value": "http://www.wikidata.org/entity/Q52969"
          },
          "personDescription": {
           "type": "literal",
           "value": "Swedish 20th century prime minister",
           "xml:lang": "en"
          },
          "personLabel": {
           "type": "literal",
           "value": "Fredrik von Otter",
           "xml:lang": "en"
          },
          "pic": {
           "type": "uri",
           "value": "http://commons.wikimedia.org/wiki/Special:FilePath/Fredrik%20von%20Otter.jpg"
          },
          "replacedbyLabel": {
           "type": "literal",
           "value": "Erik Gustaf Boström",
           "xml:lang": "en"
          },
          "start": {
           "datatype": "http://www.w3.org/2001/XMLSchema#dateTime",
           "type": "literal",
           "value": "1900-09-12T00:00:00Z"
          }
         },
         {
          "end": {
           "datatype": "http://www.w3.org/2001/XMLSchema#dateTime",
           "type": "literal",
           "value": "1905-04-13T00:00:00Z"
          },
          "person": {
           "type": "uri",
           "value": "http://www.wikidata.org/entity/Q52968"
          },
          "personDescription": {
           "type": "literal",
           "value": "Swedish 19ty/early 20th century prime minister",
           "xml:lang": "en"
          },
          "personLabel": {
           "type": "literal",
           "value": "Erik Gustaf Boström",
           "xml:lang": "en"
          },
          "pic": {
           "type": "uri",
           "value": "http://commons.wikimedia.org/wiki/Special:FilePath/E%20G%20Bostr%C3%B6m%20from%20Hildebrand%20Sveriges%20historia.jpg"
          },
          "replacedbyLabel": {
           "type": "literal",
           "value": "Johan Ramstedt",
           "xml:lang": "en"
          },
          "start": {
           "datatype": "http://www.w3.org/2001/XMLSchema#dateTime",
           "type": "literal",
           "value": "1902-07-05T00:00:00Z"
          }
         },
         {
          "end": {
           "datatype": "http://www.w3.org/2001/XMLSchema#dateTime",
           "type": "literal",
           "value": "1905-08-02T00:00:00Z"
          },
          "person": {
           "type": "uri",
           "value": "http://www.wikidata.org/entity/Q52972"
          },
          "personDescription": {
           "type": "literal",
           "value": "Swedish 20th century prime minister",
           "xml:lang": "en"
          },
          "personLabel": {
           "type": "literal",
           "value": "Johan Ramstedt",
           "xml:lang": "en"
          },
          "pic": {
           "type": "uri",
           "value": "http://commons.wikimedia.org/wiki/Special:FilePath/JohanRamstedt.JPG"
          },
          "replacedbyLabel": {
           "type": "literal",
           "value": "Christian Lundeberg",
           "xml:lang": "en"
          },
          "start": {
           "datatype": "http://www.w3.org/2001/XMLSchema#dateTime",
           "type": "literal",
           "value": "1905-04-13T00:00:00Z"
          }
         },
         {
          "end": {
           "datatype": "http://www.w3.org/2001/XMLSchema#dateTime",
           "type": "literal",
           "value": "1905-11-07T00:00:00Z"
          },
          "person": {
           "type": "uri",
           "value": "http://www.wikidata.org/entity/Q53286"
          },
          "personDescription": {
           "type": "literal",
           "value": "Swedish 20th century prime minister",
           "xml:lang": "en"
          },
          "personLabel": {
           "type": "literal",
           "value": "Christian Lundeberg",
           "xml:lang": "en"
          },
          "pic": {
           "type": "uri",
           "value": "http://commons.wikimedia.org/wiki/Special:FilePath/Christian%20Lundeberg.jpg"
          },
          "replacedbyLabel": {
           "type": "literal",
           "value": "Karl Staaff",
           "xml:lang": "en"
          },
          "start": {
           "datatype": "http://www.w3.org/2001/XMLSchema#dateTime",
           "type": "literal",
           "value": "1905-08-02T00:00:00Z"
          }
         },
         {
          "end": {
           "datatype": "http://www.w3.org/2001/XMLSchema#dateTime",
           "type": "literal",
           "value": "1906-05-29T00:00:00Z"
          },
          "person": {
           "type": "uri",
           "value": "http://www.wikidata.org/entity/Q53292"
          },
          "personDescription": {
           "type": "literal",
           "value": "Swedish 20th century prime minister",
           "xml:lang": "en"
          },
          "personLabel": {
           "type": "literal",
           "value": "Karl Staaff",
           "xml:lang": "en"
          },
          "pic": {
           "type": "uri",
           "value": "http://commons.wikimedia.org/wiki/Special:FilePath/Karl%20Staaff.jpg"
          },
          "replacedbyLabel": {
           "type": "literal",
           "value": "Arvid Lindman",
           "xml:lang": "en"
          },
          "start": {
           "datatype": "http://www.w3.org/2001/XMLSchema#dateTime",
           "type": "literal",
           "value": "1905-11-07T00:00:00Z"
          }
         },
         {
          "end": {
           "datatype": "http://www.w3.org/2001/XMLSchema#dateTime",
           "type": "literal",
           "value": "1911-10-07T00:00:00Z"
          },
          "person": {
           "type": "uri",
           "value": "http://www.wikidata.org/entity/Q53294"
          },
          "personDescription": {
           "type": "literal",
           "value": "Swedish 20th century prime minister",
           "xml:lang": "en"
          },
          "personLabel": {
           "type": "literal",
           "value": "Arvid Lindman",
           "xml:lang": "en"
          },
          "pic": {
           "type": "uri",
           "value": "http://commons.wikimedia.org/wiki/Special:FilePath/Arvid%20Lindman.jpg"
          },
          "replacedbyLabel": {
           "type": "literal",
           "value": "Karl Staaff",
           "xml:lang": "en"
          },
          "start": {
           "datatype": "http://www.w3.org/2001/XMLSchema#dateTime",
           "type": "literal",
           "value": "1906-05-29T00:00:00Z"
          }
         },
         {
          "end": {
           "datatype": "http://www.w3.org/2001/XMLSchema#dateTime",
           "type": "literal",
           "value": "1914-02-17T00:00:00Z"
          },
          "person": {
           "type": "uri",
           "value": "http://www.wikidata.org/entity/Q53292"
          },
          "personDescription": {
           "type": "literal",
           "value": "Swedish 20th century prime minister",
           "xml:lang": "en"
          },
          "personLabel": {
           "type": "literal",
           "value": "Karl Staaff",
           "xml:lang": "en"
          },
          "pic": {
           "type": "uri",
           "value": "http://commons.wikimedia.org/wiki/Special:FilePath/Karl%20Staaff.jpg"
          },
          "replacedbyLabel": {
           "type": "literal",
           "value": "Hjalmar Hammarskjöld",
           "xml:lang": "en"
          },
          "start": {
           "datatype": "http://www.w3.org/2001/XMLSchema#dateTime",
           "type": "literal",
           "value": "1911-10-07T00:00:00Z"
          }
         },
         {
          "end": {
           "datatype": "http://www.w3.org/2001/XMLSchema#dateTime",
           "type": "literal",
           "value": "1917-03-30T00:00:00Z"
          },
          "person": {
           "type": "uri",
           "value": "http://www.wikidata.org/entity/Q53300"
          },
          "personDescription": {
           "type": "literal",
           "value": "Swedish 20th century prime minister",
           "xml:lang": "en"
          },
          "personLabel": {
           "type": "literal",
           "value": "Hjalmar Hammarskjöld",
           "xml:lang": "en"
          },
          "pic": {
           "type": "uri",
           "value": "http://commons.wikimedia.org/wiki/Special:FilePath/Hjalmar%20Hammarskj%C3%B6ld.jpg"
          },
          "replacedbyLabel": {
           "type": "literal",
           "value": "Carl Swartz",
           "xml:lang": "en"
          },
          "start": {
           "datatype": "http://www.w3.org/2001/XMLSchema#dateTime",
           "type": "literal",
           "value": "1914-02-17T00:00:00Z"
          }
         },
         {
          "end": {
           "datatype": "http://www.w3.org/2001/XMLSchema#dateTime",
           "type": "literal",
           "value": "1917-10-19T00:00:00Z"
          },
          "person": {
           "type": "uri",
           "value": "http://www.wikidata.org/entity/Q53305"
          },
          "personDescription": {
           "type": "literal",
           "value": "Swedish 20th century prime minister",
           "xml:lang": "en"
          },
          "personLabel": {
           "type": "literal",
           "value": "Carl Swartz",
           "xml:lang": "en"
          },
          "pic": {
           "type": "uri",
           "value": "http://commons.wikimedia.org/wiki/Special:FilePath/Swartz%2C%20Carl%20i%20VJ%2047%201916.jpg"
          },
          "replacedbyLabel": {
           "type": "literal",
           "value": "Nils Edén",
           "xml:lang": "en"
          },
          "start": {
           "datatype": "http://www.w3.org/2001/XMLSchema#dateTime",
           "type": "literal",
           "value": "1917-03-30T00:00:00Z"
          }
         },
         {
          "end": {
           "datatype": "http://www.w3.org/2001/XMLSchema#dateTime",
           "type": "literal",
           "value": "1920-03-10T00:00:00Z"
          },
          "person": {
           "type": "uri",
           "value": "http://www.wikidata.org/entity/Q53310"
          },
          "personDescription": {
           "type": "literal",
           "value": "Swedish 20th century prime minister",
           "xml:lang": "en"
          },
          "personLabel": {
           "type": "literal",
           "value": "Nils Edén",
           "xml:lang": "en"
          },
          "pic": {
           "type": "uri",
           "value": "http://commons.wikimedia.org/wiki/Special:FilePath/Nils%20Eden.jpg"
          },
          "replacedbyLabel": {
           "type": "literal",
           "value": "Hjalmar Branting",
           "xml:lang": "en"
          },
          "start": {
           "datatype": "http://www.w3.org/2001/XMLSchema#dateTime",
           "type": "literal",
           "value": "1917-10-19T00:00:00Z"
          }
         },
         {
          "end": {
           "datatype": "http://www.w3.org/2001/XMLSchema#dateTime",
           "type": "literal",
           "value": "1920-10-27T00:00:00Z"
          },
          "person": {
           "type": "uri",
           "value": "http://www.wikidata.org/entity/Q53620"
          },
          "personDescription": {
           "type": "literal",
           "value": "Prime Minister of Sweden",
           "xml:lang": "en"
          },
          "personLabel": {
           "type": "literal",
           "value": "Hjalmar Branting",
           "xml:lang": "en"
          },
          "pic": {
           "type": "uri",
           "value": "http://commons.wikimedia.org/wiki/Special:FilePath/Hjalmar%20Brantings%20portr%C3%A4tt%20av%20Richard%20Bergh.jpg"
          },
          "replacedbyLabel": {
           "type": "literal",
           "value": "Gerhard Louis De Geer",
           "xml:lang": "en"
          },
          "start": {
           "datatype": "http://www.w3.org/2001/XMLSchema#dateTime",
           "type": "literal",
           "value": "1920-03-10T00:00:00Z"
          }
         },
         {
          "end": {
           "datatype": "http://www.w3.org/2001/XMLSchema#dateTime",
           "type": "literal",
           "value": "1921-02-23T00:00:00Z"
          },
          "person": {
           "type": "uri",
           "value": "http://www.wikidata.org/entity/Q53626"
          },
          "personDescription": {
           "type": "literal",
           "value": "Swedish politician",
           "xml:lang": "en"
          },
          "personLabel": {
           "type": "literal",
           "value": "Gerhard Louis De Geer",
           "xml:lang": "en"
          },
          "pic": {
           "type": "uri",
           "value": "http://commons.wikimedia.org/wiki/Special:FilePath/Louis%20de%20Geer.jpg"
          },
          "replacedbyLabel": {
           "type": "literal",
           "value": "Oscar von Sydow",
           "xml:lang": "en"
          },
          "start": {
           "datatype": "http://www.w3.org/2001/XMLSchema#dateTime",
           "type": "literal",
           "value": "1920-10-27T00:00:00Z"
          }
         },
         {
          "end": {
           "datatype": "http://www.w3.org/2001/XMLSchema#dateTime",
           "type": "literal",
           "value": "1921-10-13T00:00:00Z"
          },
          "person": {
           "type": "uri",
           "value": "http://www.wikidata.org/entity/Q53628"
          },
          "personDescription": {
           "type": "literal",
           "value": "Swedish 20th century prime minister",
           "xml:lang": "en"
          },
          "personLabel": {
           "type": "literal",
           "value": "Oscar von Sydow",
           "xml:lang": "en"
          },
          "pic": {
           "type": "uri",
           "value": "http://commons.wikimedia.org/wiki/Special:FilePath/Oscar%20von%20Sydow%2C%20statsminister.jpg"
          },
          "replacedbyLabel": {
           "type": "literal",
           "value": "Hjalmar Branting",
           "xml:lang": "en"
          },
          "start": {
           "datatype": "http://www.w3.org/2001/XMLSchema#dateTime",
           "type": "literal",
           "value": "1921-02-23T00:00:00Z"
          }
         },
         {
          "end": {
           "datatype": "http://www.w3.org/2001/XMLSchema#dateTime",
           "type": "literal",
           "value": "1923-04-19T00:00:00Z"
          },
          "person": {
           "type": "uri",
           "value": "http://www.wikidata.org/entity/Q53620"
          },
          "personDescription": {
           "type": "literal",
           "value": "Prime Minister of Sweden",
           "xml:lang": "en"
          },
          "personLabel": {
           "type": "literal",
           "value": "Hjalmar Branting",
           "xml:lang": "en"
          },
          "pic": {
           "type": "uri",
           "value": "http://commons.wikimedia.org/wiki/Special:FilePath/Hjalmar%20Brantings%20portr%C3%A4tt%20av%20Richard%20Bergh.jpg"
          },
          "replacedbyLabel": {
           "type": "literal",
           "value": "Ernst Trygger",
           "xml:lang": "en"
          },
          "start": {
           "datatype": "http://www.w3.org/2001/XMLSchema#dateTime",
           "type": "literal",
           "value": "1921-10-13T00:00:00Z"
          }
         },
         {
          "end": {
           "datatype": "http://www.w3.org/2001/XMLSchema#dateTime",
           "type": "literal",
           "value": "1924-10-18T00:00:00Z"
          },
          "person": {
           "type": "uri",
           "value": "http://www.wikidata.org/entity/Q53633"
          },
          "personDescription": {
           "type": "literal",
           "value": "Swedish 20th century prime minister",
           "xml:lang": "en"
          },
          "personLabel": {
           "type": "literal",
           "value": "Ernst Trygger",
           "xml:lang": "en"
          },
          "pic": {
           "type": "uri",
           "value": "http://commons.wikimedia.org/wiki/Special:FilePath/Ernst%20Trygger%20portraited%20by%20Ivar%20Kamke.jpg"
          },
          "replacedbyLabel": {
           "type": "literal",
           "value": "Hjalmar Branting",
           "xml:lang": "en"
          },
          "start": {
           "datatype": "http://www.w3.org/2001/XMLSchema#dateTime",
           "type": "literal",
           "value": "1923-04-19T00:00:00Z"
          }
         },
         {
          "end": {
           "datatype": "http://www.w3.org/2001/XMLSchema#dateTime",
           "type": "literal",
           "value": "1925-01-24T00:00:00Z"
          },
          "person": {
           "type": "uri",
           "value": "http://www.wikidata.org/entity/Q53620"
          },
          "personDescription": {
           "type": "literal",
           "value": "Prime Minister of Sweden",
           "xml:lang": "en"
          },
          "personLabel": {
           "type": "literal",
           "value": "Hjalmar Branting",
           "xml:lang": "en"
          },
          "pic": {
           "type": "uri",
           "value": "http://commons.wikimedia.org/wiki/Special:FilePath/Hjalmar%20Brantings%20portr%C3%A4tt%20av%20Richard%20Bergh.jpg"
          },
          "replacedbyLabel": {
           "type": "literal",
           "value": "Rickard Sandler",
           "xml:lang": "en"
          },
          "start": {
           "datatype": "http://www.w3.org/2001/XMLSchema#dateTime",
           "type": "literal",
           "value": "1924-10-18T00:00:00Z"
          }
         },
         {
          "end": {
           "datatype": "http://www.w3.org/2001/XMLSchema#dateTime",
           "type": "literal",
           "value": "1926-06-07T00:00:00Z"
          },
          "person": {
           "type": "uri",
           "value": "http://www.wikidata.org/entity/Q53637"
          },
          "personDescription": {
           "type": "literal",
           "value": "Prime Minister of Sweden",
           "xml:lang": "en"
          },
          "personLabel": {
           "type": "literal",
           "value": "Rickard Sandler",
           "xml:lang": "en"
          },
          "pic": {
           "type": "uri",
           "value": "http://commons.wikimedia.org/wiki/Special:FilePath/Rickard%20Sandler%20-%20Sveriges%20styresm%C3%A4n.jpg"
          },
          "replacedbyLabel": {
           "type": "literal",
           "value": "Carl Gustaf Ekman",
           "xml:lang": "en"
          },
          "start": {
           "datatype": "http://www.w3.org/2001/XMLSchema#dateTime",
           "type": "literal",
           "value": "1925-01-24T00:00:00Z"
          }
         },
         {
          "end": {
           "datatype": "http://www.w3.org/2001/XMLSchema#dateTime",
           "type": "literal",
           "value": "1928-10-02T00:00:00Z"
          },
          "person": {
           "type": "uri",
           "value": "http://www.wikidata.org/entity/Q53642"
          },
          "personDescription": {
           "type": "literal",
           "value": "Swedish 20th century prime minister",
           "xml:lang": "en"
          },
          "personLabel": {
           "type": "literal",
           "value": "Carl Gustaf Ekman",
           "xml:lang": "en"
          },
          "pic": {
           "type": "uri",
           "value": "http://commons.wikimedia.org/wiki/Special:FilePath/Carl%20Gustaf%20Ekman.jpg"
          },
          "replacedbyLabel": {
           "type": "literal",
           "value": "Arvid Lindman",
           "xml:lang": "en"
          },
          "start": {
           "datatype": "http://www.w3.org/2001/XMLSchema#dateTime",
           "type": "literal",
           "value": "1926-06-07T00:00:00Z"
          }
         },
         {
          "end": {
           "datatype": "http://www.w3.org/2001/XMLSchema#dateTime",
           "type": "literal",
           "value": "1930-06-07T00:00:00Z"
          },
          "person": {
           "type": "uri",
           "value": "http://www.wikidata.org/entity/Q53294"
          },
          "personDescription": {
           "type": "literal",
           "value": "Swedish 20th century prime minister",
           "xml:lang": "en"
          },
          "personLabel": {
           "type": "literal",
           "value": "Arvid Lindman",
           "xml:lang": "en"
          },
          "pic": {
           "type": "uri",
           "value": "http://commons.wikimedia.org/wiki/Special:FilePath/Arvid%20Lindman.jpg"
          },
          "replacedbyLabel": {
           "type": "literal",
           "value": "Carl Gustaf Ekman",
           "xml:lang": "en"
          },
          "start": {
           "datatype": "http://www.w3.org/2001/XMLSchema#dateTime",
           "type": "literal",
           "value": "1928-10-02T00:00:00Z"
          }
         },
         {
          "end": {
           "datatype": "http://www.w3.org/2001/XMLSchema#dateTime",
           "type": "literal",
           "value": "1932-08-06T00:00:00Z"
          },
          "person": {
           "type": "uri",
           "value": "http://www.wikidata.org/entity/Q53642"
          },
          "personDescription": {
           "type": "literal",
           "value": "Swedish 20th century prime minister",
           "xml:lang": "en"
          },
          "personLabel": {
           "type": "literal",
           "value": "Carl Gustaf Ekman",
           "xml:lang": "en"
          },
          "pic": {
           "type": "uri",
           "value": "http://commons.wikimedia.org/wiki/Special:FilePath/Carl%20Gustaf%20Ekman.jpg"
          },
          "replacedbyLabel": {
           "type": "literal",
           "value": "Felix Hamrin",
           "xml:lang": "en"
          },
          "start": {
           "datatype": "http://www.w3.org/2001/XMLSchema#dateTime",
           "type": "literal",
           "value": "1930-06-07T00:00:00Z"
          }
         },
         {
          "end": {
           "datatype": "http://www.w3.org/2001/XMLSchema#dateTime",
           "type": "literal",
           "value": "1932-09-24T00:00:00Z"
          },
          "person": {
           "type": "uri",
           "value": "http://www.wikidata.org/entity/Q53650"
          },
          "personDescription": {
           "type": "literal",
           "value": "Swedish 20th century prime minister",
           "xml:lang": "en"
          },
          "personLabel": {
           "type": "literal",
           "value": "Felix Hamrin",
           "xml:lang": "en"
          },
          "pic": {
           "type": "uri",
           "value": "http://commons.wikimedia.org/wiki/Special:FilePath/Felix%20Hamrin%20-%20Sveriges%20styresm%C3%A4n.jpg"
          },
          "replacedbyLabel": {
           "type": "literal",
           "value": "Per Albin Hansson",
           "xml:lang": "en"
          },
          "start": {
           "datatype": "http://www.w3.org/2001/XMLSchema#dateTime",
           "type": "literal",
           "value": "1932-08-06T00:00:00Z"
          }
         },
         {
          "end": {
           "datatype": "http://www.w3.org/2001/XMLSchema#dateTime",
           "type": "literal",
           "value": "1936-06-19T00:00:00Z"
          },
          "person": {
           "type": "uri",
           "value": "http://www.wikidata.org/entity/Q53660"
          },
          "personDescription": {
           "type": "literal",
           "value": "Swedish 20th century prime minister",
           "xml:lang": "en"
          },
          "personLabel": {
           "type": "literal",
           "value": "Per Albin Hansson",
           "xml:lang": "en"
          },
          "pic": {
           "type": "uri",
           "value": "http://commons.wikimedia.org/wiki/Special:FilePath/Per%20Albin%20Hansson%20-%20Sveriges%20styresm%C3%A4n.jpg"
          },
          "replacedbyLabel": {
           "type": "literal",
           "value": "Axel Pehrsson-Bramstorp",
           "xml:lang": "en"
          },
          "start": {
           "datatype": "http://www.w3.org/2001/XMLSchema#dateTime",
           "type": "literal",
           "value": "1932-09-24T00:00:00Z"
          }
         },
         {
          "end": {
           "datatype": "http://www.w3.org/2001/XMLSchema#dateTime",
           "type": "literal",
           "value": "1936-09-28T00:00:00Z"
          },
          "person": {
           "type": "uri",
           "value": "http://www.wikidata.org/entity/Q53701"
          },
          "personDescription": {
           "type": "literal",
           "value": "Swedish 20th century prime minister",
           "xml:lang": "en"
          },
          "personLabel": {
           "type": "literal",
           "value": "Axel Pehrsson-Bramstorp",
           "xml:lang": "en"
          },
          "pic": {
           "type": "uri",
           "value": "http://commons.wikimedia.org/wiki/Special:FilePath/Axel%20Pehrsson-Bramstorp.jpg"
          },
          "replacedbyLabel": {
           "type": "literal",
           "value": "Per Albin Hansson",
           "xml:lang": "en"
          },
          "start": {
           "datatype": "http://www.w3.org/2001/XMLSchema#dateTime",
           "type": "literal",
           "value": "1936-06-19T00:00:00Z"
          }
         },
         {
          "end": {
           "datatype": "http://www.w3.org/2001/XMLSchema#dateTime",
           "type": "literal",
           "value": "1946-10-06T00:00:00Z"
          },
          "person": {
           "type": "uri",
           "value": "http://www.wikidata.org/entity/Q53660"
          },
          "personDescription": {
           "type": "literal",
           "value": "Swedish 20th century prime minister",
           "xml:lang": "en"
          },
          "personLabel": {
           "type": "literal",
           "value": "Per Albin Hansson",
           "xml:lang": "en"
          },
          "pic": {
           "type": "uri",
           "value": "http://commons.wikimedia.org/wiki/Special:FilePath/Per%20Albin%20Hansson%20-%20Sveriges%20styresm%C3%A4n.jpg"
          },
          "replacedbyLabel": {
           "type": "literal",
           "value": "Tage Erlander",
           "xml:lang": "en"
          },
          "start": {
           "datatype": "http://www.w3.org/2001/XMLSchema#dateTime",
           "type": "literal",
           "value": "1936-09-28T00:00:00Z"
          }
         },
         {
          "end": {
           "datatype": "http://www.w3.org/2001/XMLSchema#dateTime",
           "type": "literal",
           "value": "1969-10-14T00:00:00Z"
          },
          "person": {
           "type": "uri",
           "value": "http://www.wikidata.org/entity/Q53707"
          },
          "personDescription": {
           "type": "literal",
           "value": "Swedish 20th century prime minister",
           "xml:lang": "en"
          },
          "personLabel": {
           "type": "literal",
           "value": "Tage Erlander",
           "xml:lang": "en"
          },
          "pic": {
           "type": "uri",
           "value": "http://commons.wikimedia.org/wiki/Special:FilePath/Tage%20Erlander%201949.jpg"
          },
          "replacedbyLabel": {
           "type": "literal",
           "value": "Olof Palme",
           "xml:lang": "en"
          },
          "start": {
           "datatype": "http://www.w3.org/2001/XMLSchema#dateTime",
           "type": "literal",
           "value": "1946-10-11T00:00:00Z"
          }
         },
         {
          "end": {
           "datatype": "http://www.w3.org/2001/XMLSchema#dateTime",
           "type": "literal",
           "value": "1976-10-08T00:00:00Z"
          },
          "person": {
           "type": "uri",
           "value": "http://www.wikidata.org/entity/Q53713"
          },
          "personDescription": {
           "type": "literal",
           "value": "Swedish politician, Prime Minister from 1969-76 and 1982-86",
           "xml:lang": "en"
          },
          "personLabel": {
           "type": "literal",
           "value": "Olof Palme",
           "xml:lang": "en"
          },
          "pic": {
           "type": "uri",
           "value": "http://commons.wikimedia.org/wiki/Special:FilePath/Olof%20Palme%201974%20%28cropped%29.jpg"
          },
          "replacedbyLabel": {
           "type": "literal",
           "value": "Thorbjörn Fälldin",
           "xml:lang": "en"
          },
          "start": {
           "datatype": "http://www.w3.org/2001/XMLSchema#dateTime",
           "type": "literal",
           "value": "1969-10-14T00:00:00Z"
          }
         },
         {
          "end": {
           "datatype": "http://www.w3.org/2001/XMLSchema#dateTime",
           "type": "literal",
           "value": "1978-10-18T00:00:00Z"
          },
          "person": {
           "type": "uri",
           "value": "http://www.wikidata.org/entity/Q53721"
          },
          "personDescription": {
           "type": "literal",
           "value": "Swedish 20th century prime minister",
           "xml:lang": "en"
          },
          "personLabel": {
           "type": "literal",
           "value": "Thorbjörn Fälldin",
           "xml:lang": "en"
          },
          "pic": {
           "type": "uri",
           "value": "http://commons.wikimedia.org/wiki/Special:FilePath/Falldin.JPG"
          },
          "replacedbyLabel": {
           "type": "literal",
           "value": "Ola Ullsten",
           "xml:lang": "en"
          },
          "start": {
           "datatype": "http://www.w3.org/2001/XMLSchema#dateTime",
           "type": "literal",
           "value": "1976-10-08T00:00:00Z"
          }
         },
         {
          "end": {
           "datatype": "http://www.w3.org/2001/XMLSchema#dateTime",
           "type": "literal",
           "value": "1979-10-12T00:00:00Z"
          },
          "person": {
           "type": "uri",
           "value": "http://www.wikidata.org/entity/Q53733"
          },
          "personDescription": {
           "type": "literal",
           "value": "Swedish politician, prime minister of Sweden between October 1978 and October 1979",
           "xml:lang": "en"
          },
          "personLabel": {
           "type": "literal",
           "value": "Ola Ullsten",
           "xml:lang": "en"
          },
          "pic": {
           "type": "uri",
           "value": "http://commons.wikimedia.org/wiki/Special:FilePath/Ola%20Ullsten.JPG"
          },
          "replacedbyLabel": {
           "type": "literal",
           "value": "Thorbjörn Fälldin",
           "xml:lang": "en"
          },
          "start": {
           "datatype": "http://www.w3.org/2001/XMLSchema#dateTime",
           "type": "literal",
           "value": "1978-10-18T00:00:00Z"
          }
         },
         {
          "end": {
           "datatype": "http://www.w3.org/2001/XMLSchema#dateTime",
           "type": "literal",
           "value": "1982-10-08T00:00:00Z"
          },
          "person": {
           "type": "uri",
           "value": "http://www.wikidata.org/entity/Q53721"
          },
          "personDescription": {
           "type": "literal",
           "value": "Swedish 20th century prime minister",
           "xml:lang": "en"
          },
          "personLabel": {
           "type": "literal",
           "value": "Thorbjörn Fälldin",
           "xml:lang": "en"
          },
          "pic": {
           "type": "uri",
           "value": "http://commons.wikimedia.org/wiki/Special:FilePath/Falldin.JPG"
          },
          "replacedbyLabel": {
           "type": "literal",
           "value": "Olof Palme",
           "xml:lang": "en"
          },
          "start": {
           "datatype": "http://www.w3.org/2001/XMLSchema#dateTime",
           "type": "literal",
           "value": "1979-10-12T00:00:00Z"
          }
         },
         {
          "end": {
           "datatype": "http://www.w3.org/2001/XMLSchema#dateTime",
           "type": "literal",
           "value": "1986-02-28T00:00:00Z"
          },
          "person": {
           "type": "uri",
           "value": "http://www.wikidata.org/entity/Q53713"
          },
          "personDescription": {
           "type": "literal",
           "value": "Swedish politician, Prime Minister from 1969-76 and 1982-86",
           "xml:lang": "en"
          },
          "personLabel": {
           "type": "literal",
           "value": "Olof Palme",
           "xml:lang": "en"
          },
          "pic": {
           "type": "uri",
           "value": "http://commons.wikimedia.org/wiki/Special:FilePath/Olof%20Palme%201974%20%28cropped%29.jpg"
          },
          "replacedbyLabel": {
           "type": "literal",
           "value": "Ingvar Carlsson",
           "xml:lang": "en"
          },
          "start": {
           "datatype": "http://www.w3.org/2001/XMLSchema#dateTime",
           "type": "literal",
           "value": "1982-10-08T00:00:00Z"
          }
         },
         {
          "end": {
           "datatype": "http://www.w3.org/2001/XMLSchema#dateTime",
           "type": "literal",
           "value": "1991-10-04T00:00:00Z"
          },
          "person": {
           "type": "uri",
           "value": "http://www.wikidata.org/entity/Q53740"
          },
          "personDescription": {
           "type": "literal",
           "value": "Swedish 20th century prime minister",
           "xml:lang": "en"
          },
          "personLabel": {
           "type": "literal",
           "value": "Ingvar Carlsson",
           "xml:lang": "en"
          },
          "pic": {
           "type": "uri",
           "value": "http://commons.wikimedia.org/wiki/Special:FilePath/Ingvar%20Carlsson.jpg"
          },
          "replacedbyLabel": {
           "type": "literal",
           "value": "Carl Bildt",
           "xml:lang": "en"
          },
          "start": {
           "datatype": "http://www.w3.org/2001/XMLSchema#dateTime",
           "type": "literal",
           "value": "1986-03-01T00:00:00Z"
          }
         },
         {
          "end": {
           "datatype": "http://www.w3.org/2001/XMLSchema#dateTime",
           "type": "literal",
           "value": "1994-10-07T00:00:00Z"
          },
          "person": {
           "type": "uri",
           "value": "http://www.wikidata.org/entity/Q52922"
          },
          "personDescription": {
           "type": "literal",
           "value": "Swedish politician, prime minister between 1991-1994, foreign minister between 2006-2014",
           "xml:lang": "en"
          },
          "personLabel": {
           "type": "literal",
           "value": "Carl Bildt",
           "xml:lang": "en"
          },
          "pic": {
           "type": "uri",
           "value": "http://commons.wikimedia.org/wiki/Special:FilePath/Carl%20Bildt%202001-05-15.jpg"
          },
          "replacedbyLabel": {
           "type": "literal",
           "value": "Ingvar Carlsson",
           "xml:lang": "en"
          },
          "start": {
           "datatype": "http://www.w3.org/2001/XMLSchema#dateTime",
           "type": "literal",
           "value": "1991-10-04T00:00:00Z"
          }
         },
         {
          "end": {
           "datatype": "http://www.w3.org/2001/XMLSchema#dateTime",
           "type": "literal",
           "value": "1996-03-22T00:00:00Z"
          },
          "person": {
           "type": "uri",
           "value": "http://www.wikidata.org/entity/Q53740"
          },
          "personDescription": {
           "type": "literal",
           "value": "Swedish 20th century prime minister",
           "xml:lang": "en"
          },
          "personLabel": {
           "type": "literal",
           "value": "Ingvar Carlsson",
           "xml:lang": "en"
          },
          "pic": {
           "type": "uri",
           "value": "http://commons.wikimedia.org/wiki/Special:FilePath/Ingvar%20Carlsson.jpg"
          },
          "replacedbyLabel": {
           "type": "literal",
           "value": "Göran Persson",
           "xml:lang": "en"
          },
          "start": {
           "datatype": "http://www.w3.org/2001/XMLSchema#dateTime",
           "type": "literal",
           "value": "1994-10-07T00:00:00Z"
          }
         },
         {
          "end": {
           "datatype": "http://www.w3.org/2001/XMLSchema#dateTime",
           "type": "literal",
           "value": "2006-10-06T00:00:00Z"
          },
          "person": {
           "type": "uri",
           "value": "http://www.wikidata.org/entity/Q53747"
          },
          "personDescription": {
           "type": "literal",
           "value": "Swedish politician, Swedish Social Democratic Party, thirty-second Prime minister of Sweden",
           "xml:lang": "en"
          },
          "personLabel": {
           "type": "literal",
           "value": "Göran Persson",
           "xml:lang": "en"
          },
          "pic": {
           "type": "uri",
           "value": "http://commons.wikimedia.org/wiki/Special:FilePath/Goran%20Persson%2C%20Sveriges%20statsminister%2C%20under%20nordiskt%20statsministermotet%20i%20Reykjavik%202005.jpg"
          },
          "replacedbyLabel": {
           "type": "literal",
           "value": "Fredrik Reinfeldt",
           "xml:lang": "en"
          },
          "start": {
           "datatype": "http://www.w3.org/2001/XMLSchema#dateTime",
           "type": "literal",
           "value": "1996-03-22T00:00:00Z"
          }
         },
         {
          "end": {
           "datatype": "http://www.w3.org/2001/XMLSchema#dateTime",
           "type": "literal",
           "value": "2014-10-03T00:00:00Z"
          },
          "person": {
           "type": "uri",
           "value": "http://www.wikidata.org/entity/Q52920"
          },
          "personDescription": {
           "type": "literal",
           "value": "32nd Prime Minister of Sweden",
           "xml:lang": "en"
          },
          "personLabel": {
           "type": "literal",
           "value": "Fredrik Reinfeldt",
           "xml:lang": "en"
          },
          "pic": {
           "type": "uri",
           "value": "http://commons.wikimedia.org/wiki/Special:FilePath/Nordisk-baltisk%20statsministermote%20under%20Nordiska%20radets%20session%20i%20Helsingfors%20%283%29%20%28cropped%29.jpg"
          },
          "replacedbyLabel": {
           "type": "literal",
           "value": "Stefan Löfven",
           "xml:lang": "en"
          },
          "start": {
           "datatype": "http://www.w3.org/2001/XMLSchema#dateTime",
           "type": "literal",
           "value": "2006-10-06T00:00:00Z"
          }
         }
        ]
       }
      },
      "text/plain": [
       "<IPython.core.display.JSON object>"
      ]
     },
     "execution_count": 3,
     "metadata": {
      "application/json": {
       "expanded": false,
       "root": "root"
      }
     },
     "output_type": "execute_result"
    }
   ],
   "source": [
    "from SPARQLWrapper import SPARQLWrapper, JSON\n",
    "\n",
    "endpoint_url = \"https://query.wikidata.org/sparql\"\n",
    "\n",
    "query = \"\"\"# Query Find in WikiData people with position held P39 Swedish Prime minister Q687075\n",
    "#\n",
    "\n",
    "select  ?person ?personLabel ?personDescription ?replacedbyLabel   ?start ?pic ?end {\n",
    "{\n",
    "   ?person wdt:P39 wd:Q687075;\n",
    "         p:P39 [\n",
    "           ps:P39 wd:Q687075;\n",
    "           pq:P580 ?start;\n",
    "           pq:P582 ?end;\n",
    "           pq:P1365 ?replace; #Replace\n",
    "           pq:P1366 ?replacedby  #Replaced by\n",
    "         ].\n",
    "     OPTIONAL{ ?person wdt:P18 ?pic .} \t\t\t\t\t# If we have an illustration\n",
    "\n",
    " }   \n",
    "  SERVICE wikibase:label { bd:serviceParam wikibase:language \"en\"}\n",
    " }\n",
    "Order by ?start\"\"\"\n",
    "\n",
    "\n",
    "def get_results(endpoint_url, query):\n",
    "    sparql = SPARQLWrapper(endpoint_url)\n",
    "    sparql.setQuery(query)\n",
    "    sparql.setReturnFormat(JSON)\n",
    "    return sparql.query().convert()\n",
    "\n",
    "\n",
    "results = get_results(endpoint_url, query)\n",
    "IPython.display.JSON(results)"
   ]
  },
  {
   "cell_type": "code",
   "execution_count": 4,
   "metadata": {},
   "outputs": [
    {
     "name": "stdout",
     "output_type": "stream",
     "text": [
      "Arvid Posse 1880-04-19T00:00:00Z  -  1883-06-13T00:00:00Z\n",
      "Carl Johan Thyselius 1883-06-13T00:00:00Z  -  1884-05-16T00:00:00Z\n",
      "Robert Themptander 1884-05-16T00:00:00Z  -  1888-02-06T00:00:00Z\n",
      "Gillis Bildt 1888-02-06T00:00:00Z  -  1889-10-12T00:00:00Z\n",
      "Gustaf Åkerhielm 1889-10-12T00:00:00Z  -  1891-07-10T00:00:00Z\n",
      "Erik Gustaf Boström 1891-07-10T00:00:00Z  -  1900-09-12T00:00:00Z\n",
      "Fredrik von Otter 1900-09-12T00:00:00Z  -  1902-07-05T00:00:00Z\n",
      "Erik Gustaf Boström 1902-07-05T00:00:00Z  -  1905-04-13T00:00:00Z\n",
      "Johan Ramstedt 1905-04-13T00:00:00Z  -  1905-08-02T00:00:00Z\n",
      "Christian Lundeberg 1905-08-02T00:00:00Z  -  1905-11-07T00:00:00Z\n",
      "Karl Staaff 1905-11-07T00:00:00Z  -  1906-05-29T00:00:00Z\n",
      "Arvid Lindman 1906-05-29T00:00:00Z  -  1911-10-07T00:00:00Z\n",
      "Karl Staaff 1911-10-07T00:00:00Z  -  1914-02-17T00:00:00Z\n",
      "Hjalmar Hammarskjöld 1914-02-17T00:00:00Z  -  1917-03-30T00:00:00Z\n",
      "Carl Swartz 1917-03-30T00:00:00Z  -  1917-10-19T00:00:00Z\n",
      "Nils Edén 1917-10-19T00:00:00Z  -  1920-03-10T00:00:00Z\n",
      "Hjalmar Branting 1920-03-10T00:00:00Z  -  1920-10-27T00:00:00Z\n",
      "Gerhard Louis De Geer 1920-10-27T00:00:00Z  -  1921-02-23T00:00:00Z\n",
      "Oscar von Sydow 1921-02-23T00:00:00Z  -  1921-10-13T00:00:00Z\n",
      "Hjalmar Branting 1921-10-13T00:00:00Z  -  1923-04-19T00:00:00Z\n",
      "Ernst Trygger 1923-04-19T00:00:00Z  -  1924-10-18T00:00:00Z\n",
      "Hjalmar Branting 1924-10-18T00:00:00Z  -  1925-01-24T00:00:00Z\n",
      "Rickard Sandler 1925-01-24T00:00:00Z  -  1926-06-07T00:00:00Z\n",
      "Carl Gustaf Ekman 1926-06-07T00:00:00Z  -  1928-10-02T00:00:00Z\n",
      "Arvid Lindman 1928-10-02T00:00:00Z  -  1930-06-07T00:00:00Z\n",
      "Carl Gustaf Ekman 1930-06-07T00:00:00Z  -  1932-08-06T00:00:00Z\n",
      "Felix Hamrin 1932-08-06T00:00:00Z  -  1932-09-24T00:00:00Z\n",
      "Per Albin Hansson 1932-09-24T00:00:00Z  -  1936-06-19T00:00:00Z\n",
      "Axel Pehrsson-Bramstorp 1936-06-19T00:00:00Z  -  1936-09-28T00:00:00Z\n",
      "Per Albin Hansson 1936-09-28T00:00:00Z  -  1946-10-06T00:00:00Z\n",
      "Tage Erlander 1946-10-11T00:00:00Z  -  1969-10-14T00:00:00Z\n",
      "Olof Palme 1969-10-14T00:00:00Z  -  1976-10-08T00:00:00Z\n",
      "Thorbjörn Fälldin 1976-10-08T00:00:00Z  -  1978-10-18T00:00:00Z\n",
      "Ola Ullsten 1978-10-18T00:00:00Z  -  1979-10-12T00:00:00Z\n",
      "Thorbjörn Fälldin 1979-10-12T00:00:00Z  -  1982-10-08T00:00:00Z\n",
      "Olof Palme 1982-10-08T00:00:00Z  -  1986-02-28T00:00:00Z\n",
      "Ingvar Carlsson 1986-03-01T00:00:00Z  -  1991-10-04T00:00:00Z\n",
      "Carl Bildt 1991-10-04T00:00:00Z  -  1994-10-07T00:00:00Z\n",
      "Ingvar Carlsson 1994-10-07T00:00:00Z  -  1996-03-22T00:00:00Z\n",
      "Göran Persson 1996-03-22T00:00:00Z  -  2006-10-06T00:00:00Z\n",
      "Fredrik Reinfeldt 2006-10-06T00:00:00Z  -  2014-10-03T00:00:00Z\n"
     ]
    }
   ],
   "source": [
    "for result in results[\"results\"][\"bindings\"]:\n",
    "    print(result[\"personLabel\"][\"value\"], result[\"start\"][\"value\"], \" - \",  result[\"end\"][\"value\"])"
   ]
  },
  {
   "cell_type": "markdown",
   "metadata": {},
   "source": [
    "## Example: Airports near Berlin"
   ]
  },
  {
   "cell_type": "code",
   "execution_count": 5,
   "metadata": {},
   "outputs": [
    {
     "data": {
      "application/json": {
       "head": {
        "vars": [
         "place",
         "placeLabel",
         "location"
        ]
       },
       "results": {
        "bindings": [
         {
          "location": {
           "datatype": "http://www.opengis.net/ont/geosparql#wktLiteral",
           "type": "literal",
           "value": "Point(13.401666666 52.473611111)"
          },
          "place": {
           "type": "uri",
           "value": "http://www.wikidata.org/entity/Q9686"
          },
          "placeLabel": {
           "type": "literal",
           "value": "Berlin Tempelhof Airport",
           "xml:lang": "en"
          }
         },
         {
          "location": {
           "datatype": "http://www.opengis.net/ont/geosparql#wktLiteral",
           "type": "literal",
           "value": "Point(13.520556 52.378611)"
          },
          "place": {
           "type": "uri",
           "value": "http://www.wikidata.org/entity/Q9689"
          },
          "placeLabel": {
           "type": "literal",
           "value": "Berlin Schönefeld Airport",
           "xml:lang": "en"
          }
         },
         {
          "location": {
           "datatype": "http://www.opengis.net/ont/geosparql#wktLiteral",
           "type": "literal",
           "value": "Point(13.287778 52.559722)"
          },
          "place": {
           "type": "uri",
           "value": "http://www.wikidata.org/entity/Q9688"
          },
          "placeLabel": {
           "type": "literal",
           "value": "Berlin Tegel Airport",
           "xml:lang": "en"
          }
         },
         {
          "location": {
           "datatype": "http://www.opengis.net/ont/geosparql#wktLiteral",
           "type": "literal",
           "value": "Point(13.783612 53.356112)"
          },
          "place": {
           "type": "uri",
           "value": "http://www.wikidata.org/entity/Q20452704"
          },
          "placeLabel": {
           "type": "literal",
           "value": "Dedelow Airport",
           "xml:lang": "en"
          }
         },
         {
          "location": {
           "datatype": "http://www.opengis.net/ont/geosparql#wktLiteral",
           "type": "literal",
           "value": "Point(12.914167 52.626388)"
          },
          "place": {
           "type": "uri",
           "value": "http://www.wikidata.org/entity/Q20456666"
          },
          "placeLabel": {
           "type": "literal",
           "value": "Nauen Airport",
           "xml:lang": "en"
          }
         },
         {
          "location": {
           "datatype": "http://www.opengis.net/ont/geosparql#wktLiteral",
           "type": "literal",
           "value": "Point(12.541945 52.826388)"
          },
          "place": {
           "type": "uri",
           "value": "http://www.wikidata.org/entity/Q12694932"
          },
          "placeLabel": {
           "type": "literal",
           "value": "Segeletz Airport",
           "xml:lang": "en"
          }
         },
         {
          "location": {
           "datatype": "http://www.opengis.net/ont/geosparql#wktLiteral",
           "type": "literal",
           "value": "Point(12.669667 52.144167)"
          },
          "place": {
           "type": "uri",
           "value": "http://www.wikidata.org/entity/Q12693701"
          },
          "placeLabel": {
           "type": "literal",
           "value": "Lusse Airport",
           "xml:lang": "en"
          }
         },
         {
          "location": {
           "datatype": "http://www.opengis.net/ont/geosparql#wktLiteral",
           "type": "literal",
           "value": "Point(14.59311 52.1934)"
          },
          "place": {
           "type": "uri",
           "value": "http://www.wikidata.org/entity/Q12692538"
          },
          "placeLabel": {
           "type": "literal",
           "value": "Eisenhuttenstadt Airport",
           "xml:lang": "en"
          }
         },
         {
          "location": {
           "datatype": "http://www.opengis.net/ont/geosparql#wktLiteral",
           "type": "literal",
           "value": "Point(14.585555 52.197222)"
          },
          "place": {
           "type": "uri",
           "value": "http://www.wikidata.org/entity/Q12692538"
          },
          "placeLabel": {
           "type": "literal",
           "value": "Eisenhuttenstadt Airport",
           "xml:lang": "en"
          }
         },
         {
          "location": {
           "datatype": "http://www.opengis.net/ont/geosparql#wktLiteral",
           "type": "literal",
           "value": "Point(12.425278 52.918888)"
          },
          "place": {
           "type": "uri",
           "value": "http://www.wikidata.org/entity/Q12693460"
          },
          "placeLabel": {
           "type": "literal",
           "value": "Kyritz Airport",
           "xml:lang": "en"
          }
         },
         {
          "location": {
           "datatype": "http://www.opengis.net/ont/geosparql#wktLiteral",
           "type": "literal",
           "value": "Point(13.503333333 52.366666666)"
          },
          "place": {
           "type": "uri",
           "value": "http://www.wikidata.org/entity/Q160556"
          },
          "placeLabel": {
           "type": "literal",
           "value": "Berlin Brandenburg Airport",
           "xml:lang": "en"
          }
         },
         {
          "location": {
           "datatype": "http://www.opengis.net/ont/geosparql#wktLiteral",
           "type": "literal",
           "value": "Point(13.5167 52.4333)"
          },
          "place": {
           "type": "uri",
           "value": "http://www.wikidata.org/entity/Q563799"
          },
          "placeLabel": {
           "type": "literal",
           "value": "Johannisthal Air Field",
           "xml:lang": "en"
          }
         },
         {
          "location": {
           "datatype": "http://www.opengis.net/ont/geosparql#wktLiteral",
           "type": "literal",
           "value": "Point(14.666666666 52.266666666)"
          },
          "place": {
           "type": "uri",
           "value": "http://www.wikidata.org/entity/Q35272046"
          },
          "placeLabel": {
           "type": "literal",
           "value": "Kunice",
           "xml:lang": "en"
          }
         },
         {
          "location": {
           "datatype": "http://www.opengis.net/ont/geosparql#wktLiteral",
           "type": "literal",
           "value": "Point(14.4331 52.9427)"
          },
          "place": {
           "type": "uri",
           "value": "http://www.wikidata.org/entity/Q35249408"
          },
          "placeLabel": {
           "type": "literal",
           "value": "Chojna",
           "xml:lang": "en"
          }
         }
        ]
       }
      },
      "text/plain": [
       "<IPython.core.display.JSON object>"
      ]
     },
     "execution_count": 5,
     "metadata": {
      "application/json": {
       "expanded": false,
       "root": "root"
      }
     },
     "output_type": "execute_result"
    }
   ],
   "source": [
    "from SPARQLWrapper import SPARQLWrapper, JSON\n",
    "\n",
    "endpoint_url = \"https://query.wikidata.org/sparql\"\n",
    "\n",
    "query = \"\"\"SELECT ?place ?placeLabel ?location\n",
    "WHERE\n",
    "{\n",
    "  # Berlin coordinates\n",
    "  wd:Q64 wdt:P625 ?berlinLoc .\n",
    "  SERVICE wikibase:around {\n",
    "    ?place wdt:P625 ?location .\n",
    "    bd:serviceParam wikibase:center ?berlinLoc .\n",
    "    bd:serviceParam wikibase:radius \"100\" .\n",
    "  } .\n",
    "  # Is an airport\n",
    "  FILTER EXISTS { ?place wdt:P31/wdt:P279* wd:Q1248784 } .\n",
    "  SERVICE wikibase:label {\n",
    "    bd:serviceParam wikibase:language \"[AUTO_LANGUAGE],en\" .\n",
    "  } \n",
    "}\"\"\"\n",
    "\n",
    "\n",
    "def get_results(endpoint_url, query):\n",
    "    sparql = SPARQLWrapper(endpoint_url)\n",
    "    sparql.setQuery(query)\n",
    "    sparql.setReturnFormat(JSON)\n",
    "    return sparql.query().convert()\n",
    "\n",
    "\n",
    "results = get_results(endpoint_url, query)\n",
    "IPython.display.JSON(results)"
   ]
  },
  {
   "cell_type": "code",
   "execution_count": 6,
   "metadata": {},
   "outputs": [
    {
     "name": "stdout",
     "output_type": "stream",
     "text": [
      "Berlin Tempelhof Airport\n",
      "Berlin Schönefeld Airport\n",
      "Berlin Tegel Airport\n",
      "Dedelow Airport\n",
      "Nauen Airport\n",
      "Segeletz Airport\n",
      "Lusse Airport\n",
      "Eisenhuttenstadt Airport\n",
      "Eisenhuttenstadt Airport\n",
      "Kyritz Airport\n",
      "Berlin Brandenburg Airport\n",
      "Johannisthal Air Field\n",
      "Kunice\n",
      "Chojna\n"
     ]
    }
   ],
   "source": [
    "for result in results[\"results\"][\"bindings\"]:\n",
    "    print(result[\"placeLabel\"][\"value\"])"
   ]
  },
  {
   "cell_type": "code",
   "execution_count": null,
   "metadata": {},
   "outputs": [],
   "source": []
  }
 ],
 "metadata": {
  "kernelspec": {
   "display_name": "Python 3",
   "language": "python",
   "name": "python3"
  },
  "language_info": {
   "codemirror_mode": {
    "name": "ipython",
    "version": 3
   },
   "file_extension": ".py",
   "mimetype": "text/x-python",
   "name": "python",
   "nbconvert_exporter": "python",
   "pygments_lexer": "ipython3",
   "version": "3.6.6"
  }
 },
 "nbformat": 4,
 "nbformat_minor": 2
}
