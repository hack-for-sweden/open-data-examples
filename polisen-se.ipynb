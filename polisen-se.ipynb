{
 "cells": [
  {
   "cell_type": "markdown",
   "metadata": {},
   "source": [
    "![polis](https://polisen.se/Content/Images/polisenLogo.png)\n",
    "# Polisen.se - Get police events\n",
    "\n",
    "With this API you can get events based on _when_, _where_ and _what_, for more details [read this](https://polisen.se/om-polisen/om-webbplatsen/oppna-data/api-over-polisens-handelser/).\n",
    "\n",
    "- https://polisen.se/api\n",
    "  - [/events?locationname=Stockholm](https://polisen.se/api/events?locationname=Stockholm)\n",
    "  - [/events?type=Brand](https://polisen.se/api/events?type=Brand)\n",
    "  - [/events?DateTime=2019-04](https://polisen.se/api/events?DateTime=2019-04)\n",
    "  - [/events?DateTime=2019-04&type=Stöld&locationname=Stockholm](https://polisen.se/api/events?DateTime=2019-04&type=Stöld&locationname=Stockholm)\n",
    "    \n"
   ]
  },
  {
   "cell_type": "code",
   "execution_count": 44,
   "metadata": {},
   "outputs": [
    {
     "data": {
      "text/plain": [
       "'https://polisen.se/api/events?DateTime=2019-04&type=Stöld&locationname=Stockholm;Göteborg;Malmö;Uppsala'"
      ]
     },
     "execution_count": 44,
     "metadata": {},
     "output_type": "execute_result"
    }
   ],
   "source": [
    "from IPython.display  import JSON\n",
    "import requests\n",
    "import json\n",
    "\n",
    "baseUrl = \"https://polisen.se/api\"\n",
    "endpoint = \"/events?DateTime=2019-04&type=Stöld&locationname=Stockholm;Göteborg;Malmö;Uppsala\"\n",
    "url = baseUrl + endpoint\n",
    "url"
   ]
  },
  {
   "cell_type": "code",
   "execution_count": 45,
   "metadata": {},
   "outputs": [
    {
     "data": {
      "application/json": [
       {
        "datetime": "2019-04-03 18:51:43 +02:00",
        "id": 127872,
        "location": {
         "gps": "59.329324,18.068581",
         "name": "Stockholm"
        },
        "name": "03 april 18:51, Stöld, Stockholm",
        "summary": "Vittnet har sett två män i en vit skåpbil stjäla lastpallar från en servering i Rålambshovsparken. De har sedan åkt mot Lindhagensplan.",
        "type": "Stöld",
        "url": "https://polisen.se/aktuellt/handelser/2019/april/3/03-april-1851-stold-stockholm/"
       },
       {
        "datetime": "2019-04-03 11:18:15 +02:00",
        "id": 127804,
        "location": {
         "gps": "59.329324,18.068581",
         "name": "Stockholm"
        },
        "name": "03 april 11:18, Stöld, Stockholm",
        "summary": "Ordningsvakt har gripit en person misstänkt för stöld i ett varuhus på Norrmalm.",
        "type": "Stöld",
        "url": "https://polisen.se/aktuellt/handelser/2019/april/3/03-april-1118-stold-stockholm/"
       },
       {
        "datetime": "2019-04-03 9:17:26 +02:00",
        "id": 127795,
        "location": {
         "gps": "57.70887,11.97456",
         "name": "Göteborg"
        },
        "name": "03 april 09:17, Stöld, Göteborg",
        "summary": "Vid Lillekärr Norra grips en man under pågående tillgrepp av en motorcykel.",
        "type": "Stöld",
        "url": "https://polisen.se/aktuellt/handelser/2019/april/3/03-april-0917-stold-goteborg/"
       },
       {
        "datetime": "2019-04-01 18:07:17 +02:00",
        "id": 127500,
        "location": {
         "gps": "59.329324,18.068581",
         "name": "Stockholm"
        },
        "name": "01 april 18:07, Stöld, Stockholm",
        "summary": "Tre män grips när lastar gods till en bil från en container på en byggarbetsplats i Blackeberg.",
        "type": "Stöld",
        "url": "https://polisen.se/aktuellt/handelser/2019/april/1/01-april-1807-stold-stockholm/"
       },
       {
        "datetime": "2019-04-01 16:57:25 +02:00",
        "id": 127503,
        "location": {
         "gps": "59.858564,17.638927",
         "name": "Uppsala"
        },
        "name": "01 april 16:57, Stöld, Uppsala",
        "summary": "Berusad kvinna misstänks för ringa stöld ",
        "type": "Stöld",
        "url": "https://polisen.se/aktuellt/handelser/2019/april/1/01-april-1657-stold-uppsala/"
       }
      ],
      "text/plain": [
       "<IPython.core.display.JSON object>"
      ]
     },
     "execution_count": 45,
     "metadata": {
      "application/json": {
       "expanded": false,
       "root": "root"
      }
     },
     "output_type": "execute_result"
    }
   ],
   "source": [
    "# Call the API\n",
    "req = requests.get(url)\n",
    "\n",
    "# Ensure we fail fast if the web request failed\n",
    "req.raise_for_status()\n",
    "\n",
    "data = json.loads(req.text)\n",
    "JSON(data)"
   ]
  },
  {
   "cell_type": "code",
   "execution_count": 46,
   "metadata": {},
   "outputs": [],
   "source": [
    "import pandas as pd\n",
    "from pandas.io.json import json_normalize\n",
    "\n",
    "df = json_normalize(data)"
   ]
  },
  {
   "cell_type": "code",
   "execution_count": 47,
   "metadata": {},
   "outputs": [
    {
     "data": {
      "text/html": [
       "<div>\n",
       "<style scoped>\n",
       "    .dataframe tbody tr th:only-of-type {\n",
       "        vertical-align: middle;\n",
       "    }\n",
       "\n",
       "    .dataframe tbody tr th {\n",
       "        vertical-align: top;\n",
       "    }\n",
       "\n",
       "    .dataframe thead th {\n",
       "        text-align: right;\n",
       "    }\n",
       "</style>\n",
       "<table border=\"1\" class=\"dataframe\">\n",
       "  <thead>\n",
       "    <tr style=\"text-align: right;\">\n",
       "      <th></th>\n",
       "      <th>datetime</th>\n",
       "      <th>id</th>\n",
       "      <th>location.gps</th>\n",
       "      <th>location.name</th>\n",
       "      <th>name</th>\n",
       "      <th>summary</th>\n",
       "      <th>type</th>\n",
       "      <th>url</th>\n",
       "    </tr>\n",
       "  </thead>\n",
       "  <tbody>\n",
       "    <tr>\n",
       "      <th>0</th>\n",
       "      <td>2019-04-03 18:51:43 +02:00</td>\n",
       "      <td>127872</td>\n",
       "      <td>59.329324,18.068581</td>\n",
       "      <td>Stockholm</td>\n",
       "      <td>03 april 18:51, Stöld, Stockholm</td>\n",
       "      <td>Vittnet har sett två män i en vit skåpbil stjä...</td>\n",
       "      <td>Stöld</td>\n",
       "      <td>https://polisen.se/aktuellt/handelser/2019/apr...</td>\n",
       "    </tr>\n",
       "    <tr>\n",
       "      <th>1</th>\n",
       "      <td>2019-04-03 11:18:15 +02:00</td>\n",
       "      <td>127804</td>\n",
       "      <td>59.329324,18.068581</td>\n",
       "      <td>Stockholm</td>\n",
       "      <td>03 april 11:18, Stöld, Stockholm</td>\n",
       "      <td>Ordningsvakt har gripit en person misstänkt fö...</td>\n",
       "      <td>Stöld</td>\n",
       "      <td>https://polisen.se/aktuellt/handelser/2019/apr...</td>\n",
       "    </tr>\n",
       "    <tr>\n",
       "      <th>2</th>\n",
       "      <td>2019-04-03 9:17:26 +02:00</td>\n",
       "      <td>127795</td>\n",
       "      <td>57.70887,11.97456</td>\n",
       "      <td>Göteborg</td>\n",
       "      <td>03 april 09:17, Stöld, Göteborg</td>\n",
       "      <td>Vid Lillekärr Norra grips en man under pågåend...</td>\n",
       "      <td>Stöld</td>\n",
       "      <td>https://polisen.se/aktuellt/handelser/2019/apr...</td>\n",
       "    </tr>\n",
       "    <tr>\n",
       "      <th>3</th>\n",
       "      <td>2019-04-01 18:07:17 +02:00</td>\n",
       "      <td>127500</td>\n",
       "      <td>59.329324,18.068581</td>\n",
       "      <td>Stockholm</td>\n",
       "      <td>01 april 18:07, Stöld, Stockholm</td>\n",
       "      <td>Tre män grips när lastar gods till en bil från...</td>\n",
       "      <td>Stöld</td>\n",
       "      <td>https://polisen.se/aktuellt/handelser/2019/apr...</td>\n",
       "    </tr>\n",
       "    <tr>\n",
       "      <th>4</th>\n",
       "      <td>2019-04-01 16:57:25 +02:00</td>\n",
       "      <td>127503</td>\n",
       "      <td>59.858564,17.638927</td>\n",
       "      <td>Uppsala</td>\n",
       "      <td>01 april 16:57, Stöld, Uppsala</td>\n",
       "      <td>Berusad kvinna misstänks för ringa stöld</td>\n",
       "      <td>Stöld</td>\n",
       "      <td>https://polisen.se/aktuellt/handelser/2019/apr...</td>\n",
       "    </tr>\n",
       "  </tbody>\n",
       "</table>\n",
       "</div>"
      ],
      "text/plain": [
       "                     datetime      id         location.gps location.name  \\\n",
       "0  2019-04-03 18:51:43 +02:00  127872  59.329324,18.068581     Stockholm   \n",
       "1  2019-04-03 11:18:15 +02:00  127804  59.329324,18.068581     Stockholm   \n",
       "2   2019-04-03 9:17:26 +02:00  127795    57.70887,11.97456      Göteborg   \n",
       "3  2019-04-01 18:07:17 +02:00  127500  59.329324,18.068581     Stockholm   \n",
       "4  2019-04-01 16:57:25 +02:00  127503  59.858564,17.638927       Uppsala   \n",
       "\n",
       "                               name  \\\n",
       "0  03 april 18:51, Stöld, Stockholm   \n",
       "1  03 april 11:18, Stöld, Stockholm   \n",
       "2   03 april 09:17, Stöld, Göteborg   \n",
       "3  01 april 18:07, Stöld, Stockholm   \n",
       "4    01 april 16:57, Stöld, Uppsala   \n",
       "\n",
       "                                             summary   type  \\\n",
       "0  Vittnet har sett två män i en vit skåpbil stjä...  Stöld   \n",
       "1  Ordningsvakt har gripit en person misstänkt fö...  Stöld   \n",
       "2  Vid Lillekärr Norra grips en man under pågåend...  Stöld   \n",
       "3  Tre män grips när lastar gods till en bil från...  Stöld   \n",
       "4          Berusad kvinna misstänks för ringa stöld   Stöld   \n",
       "\n",
       "                                                 url  \n",
       "0  https://polisen.se/aktuellt/handelser/2019/apr...  \n",
       "1  https://polisen.se/aktuellt/handelser/2019/apr...  \n",
       "2  https://polisen.se/aktuellt/handelser/2019/apr...  \n",
       "3  https://polisen.se/aktuellt/handelser/2019/apr...  \n",
       "4  https://polisen.se/aktuellt/handelser/2019/apr...  "
      ]
     },
     "execution_count": 47,
     "metadata": {},
     "output_type": "execute_result"
    }
   ],
   "source": [
    "# Show the first entries\n",
    "df.head()"
   ]
  },
  {
   "cell_type": "code",
   "execution_count": 48,
   "metadata": {},
   "outputs": [
    {
     "data": {
      "text/html": [
       "<div>\n",
       "<style scoped>\n",
       "    .dataframe tbody tr th:only-of-type {\n",
       "        vertical-align: middle;\n",
       "    }\n",
       "\n",
       "    .dataframe tbody tr th {\n",
       "        vertical-align: top;\n",
       "    }\n",
       "\n",
       "    .dataframe thead th {\n",
       "        text-align: right;\n",
       "    }\n",
       "</style>\n",
       "<table border=\"1\" class=\"dataframe\">\n",
       "  <thead>\n",
       "    <tr style=\"text-align: right;\">\n",
       "      <th></th>\n",
       "      <th>datetime</th>\n",
       "      <th>id</th>\n",
       "      <th>location.name</th>\n",
       "      <th>name</th>\n",
       "      <th>summary</th>\n",
       "      <th>type</th>\n",
       "      <th>url</th>\n",
       "      <th>Latitude</th>\n",
       "      <th>Longitude</th>\n",
       "    </tr>\n",
       "  </thead>\n",
       "  <tbody>\n",
       "    <tr>\n",
       "      <th>0</th>\n",
       "      <td>2019-04-03 18:51:43 +02:00</td>\n",
       "      <td>127872</td>\n",
       "      <td>Stockholm</td>\n",
       "      <td>03 april 18:51, Stöld, Stockholm</td>\n",
       "      <td>Vittnet har sett två män i en vit skåpbil stjä...</td>\n",
       "      <td>Stöld</td>\n",
       "      <td>https://polisen.se/aktuellt/handelser/2019/apr...</td>\n",
       "      <td>59.329324</td>\n",
       "      <td>18.068581</td>\n",
       "    </tr>\n",
       "    <tr>\n",
       "      <th>1</th>\n",
       "      <td>2019-04-03 11:18:15 +02:00</td>\n",
       "      <td>127804</td>\n",
       "      <td>Stockholm</td>\n",
       "      <td>03 april 11:18, Stöld, Stockholm</td>\n",
       "      <td>Ordningsvakt har gripit en person misstänkt fö...</td>\n",
       "      <td>Stöld</td>\n",
       "      <td>https://polisen.se/aktuellt/handelser/2019/apr...</td>\n",
       "      <td>59.329324</td>\n",
       "      <td>18.068581</td>\n",
       "    </tr>\n",
       "    <tr>\n",
       "      <th>2</th>\n",
       "      <td>2019-04-03 9:17:26 +02:00</td>\n",
       "      <td>127795</td>\n",
       "      <td>Göteborg</td>\n",
       "      <td>03 april 09:17, Stöld, Göteborg</td>\n",
       "      <td>Vid Lillekärr Norra grips en man under pågåend...</td>\n",
       "      <td>Stöld</td>\n",
       "      <td>https://polisen.se/aktuellt/handelser/2019/apr...</td>\n",
       "      <td>57.70887</td>\n",
       "      <td>11.97456</td>\n",
       "    </tr>\n",
       "    <tr>\n",
       "      <th>3</th>\n",
       "      <td>2019-04-01 18:07:17 +02:00</td>\n",
       "      <td>127500</td>\n",
       "      <td>Stockholm</td>\n",
       "      <td>01 april 18:07, Stöld, Stockholm</td>\n",
       "      <td>Tre män grips när lastar gods till en bil från...</td>\n",
       "      <td>Stöld</td>\n",
       "      <td>https://polisen.se/aktuellt/handelser/2019/apr...</td>\n",
       "      <td>59.329324</td>\n",
       "      <td>18.068581</td>\n",
       "    </tr>\n",
       "    <tr>\n",
       "      <th>4</th>\n",
       "      <td>2019-04-01 16:57:25 +02:00</td>\n",
       "      <td>127503</td>\n",
       "      <td>Uppsala</td>\n",
       "      <td>01 april 16:57, Stöld, Uppsala</td>\n",
       "      <td>Berusad kvinna misstänks för ringa stöld</td>\n",
       "      <td>Stöld</td>\n",
       "      <td>https://polisen.se/aktuellt/handelser/2019/apr...</td>\n",
       "      <td>59.858564</td>\n",
       "      <td>17.638927</td>\n",
       "    </tr>\n",
       "  </tbody>\n",
       "</table>\n",
       "</div>"
      ],
      "text/plain": [
       "                     datetime      id location.name  \\\n",
       "0  2019-04-03 18:51:43 +02:00  127872     Stockholm   \n",
       "1  2019-04-03 11:18:15 +02:00  127804     Stockholm   \n",
       "2   2019-04-03 9:17:26 +02:00  127795      Göteborg   \n",
       "3  2019-04-01 18:07:17 +02:00  127500     Stockholm   \n",
       "4  2019-04-01 16:57:25 +02:00  127503       Uppsala   \n",
       "\n",
       "                               name  \\\n",
       "0  03 april 18:51, Stöld, Stockholm   \n",
       "1  03 april 11:18, Stöld, Stockholm   \n",
       "2   03 april 09:17, Stöld, Göteborg   \n",
       "3  01 april 18:07, Stöld, Stockholm   \n",
       "4    01 april 16:57, Stöld, Uppsala   \n",
       "\n",
       "                                             summary   type  \\\n",
       "0  Vittnet har sett två män i en vit skåpbil stjä...  Stöld   \n",
       "1  Ordningsvakt har gripit en person misstänkt fö...  Stöld   \n",
       "2  Vid Lillekärr Norra grips en man under pågåend...  Stöld   \n",
       "3  Tre män grips när lastar gods till en bil från...  Stöld   \n",
       "4          Berusad kvinna misstänks för ringa stöld   Stöld   \n",
       "\n",
       "                                                 url   Latitude  Longitude  \n",
       "0  https://polisen.se/aktuellt/handelser/2019/apr...  59.329324  18.068581  \n",
       "1  https://polisen.se/aktuellt/handelser/2019/apr...  59.329324  18.068581  \n",
       "2  https://polisen.se/aktuellt/handelser/2019/apr...   57.70887   11.97456  \n",
       "3  https://polisen.se/aktuellt/handelser/2019/apr...  59.329324  18.068581  \n",
       "4  https://polisen.se/aktuellt/handelser/2019/apr...  59.858564  17.638927  "
      ]
     },
     "execution_count": 48,
     "metadata": {},
     "output_type": "execute_result"
    }
   ],
   "source": [
    "# Create two new columns, one Latitude and one Longitude, using data in location.gps\n",
    "df[['Latitude', 'Longitude']] = df['location.gps'].str.split(\",\", expand=True)\n",
    "# Remove the old column\n",
    "df.drop(labels='location.gps', axis=1)"
   ]
  },
  {
   "cell_type": "code",
   "execution_count": 49,
   "metadata": {},
   "outputs": [
    {
     "data": {
      "text/html": [
       "<div>\n",
       "<style scoped>\n",
       "    .dataframe tbody tr th:only-of-type {\n",
       "        vertical-align: middle;\n",
       "    }\n",
       "\n",
       "    .dataframe tbody tr th {\n",
       "        vertical-align: top;\n",
       "    }\n",
       "\n",
       "    .dataframe thead th {\n",
       "        text-align: right;\n",
       "    }\n",
       "</style>\n",
       "<table border=\"1\" class=\"dataframe\">\n",
       "  <thead>\n",
       "    <tr style=\"text-align: right;\">\n",
       "      <th></th>\n",
       "      <th>datetime</th>\n",
       "      <th>id</th>\n",
       "      <th>location.gps</th>\n",
       "      <th>location.name</th>\n",
       "      <th>name</th>\n",
       "      <th>summary</th>\n",
       "      <th>type</th>\n",
       "      <th>url</th>\n",
       "      <th>Latitude</th>\n",
       "      <th>Longitude</th>\n",
       "    </tr>\n",
       "  </thead>\n",
       "  <tbody>\n",
       "    <tr>\n",
       "      <th>0</th>\n",
       "      <td>2019-04-03 18:51:43 +02:00</td>\n",
       "      <td>127872</td>\n",
       "      <td>59.329324,18.068581</td>\n",
       "      <td>Stockholm</td>\n",
       "      <td>03 april 18:51, Stöld, Stockholm</td>\n",
       "      <td>Vittnet har sett två män i en vit skåpbil stjä...</td>\n",
       "      <td>Stöld</td>\n",
       "      <td>https://polisen.se/aktuellt/handelser/2019/apr...</td>\n",
       "      <td>59.329324</td>\n",
       "      <td>18.068581</td>\n",
       "    </tr>\n",
       "    <tr>\n",
       "      <th>1</th>\n",
       "      <td>2019-04-03 11:18:15 +02:00</td>\n",
       "      <td>127804</td>\n",
       "      <td>59.329324,18.068581</td>\n",
       "      <td>Stockholm</td>\n",
       "      <td>03 april 11:18, Stöld, Stockholm</td>\n",
       "      <td>Ordningsvakt har gripit en person misstänkt fö...</td>\n",
       "      <td>Stöld</td>\n",
       "      <td>https://polisen.se/aktuellt/handelser/2019/apr...</td>\n",
       "      <td>59.329324</td>\n",
       "      <td>18.068581</td>\n",
       "    </tr>\n",
       "    <tr>\n",
       "      <th>2</th>\n",
       "      <td>2019-04-03 9:17:26 +02:00</td>\n",
       "      <td>127795</td>\n",
       "      <td>57.70887,11.97456</td>\n",
       "      <td>Göteborg</td>\n",
       "      <td>03 april 09:17, Stöld, Göteborg</td>\n",
       "      <td>Vid Lillekärr Norra grips en man under pågåend...</td>\n",
       "      <td>Stöld</td>\n",
       "      <td>https://polisen.se/aktuellt/handelser/2019/apr...</td>\n",
       "      <td>57.70887</td>\n",
       "      <td>11.97456</td>\n",
       "    </tr>\n",
       "    <tr>\n",
       "      <th>3</th>\n",
       "      <td>2019-04-01 18:07:17 +02:00</td>\n",
       "      <td>127500</td>\n",
       "      <td>59.329324,18.068581</td>\n",
       "      <td>Stockholm</td>\n",
       "      <td>01 april 18:07, Stöld, Stockholm</td>\n",
       "      <td>Tre män grips när lastar gods till en bil från...</td>\n",
       "      <td>Stöld</td>\n",
       "      <td>https://polisen.se/aktuellt/handelser/2019/apr...</td>\n",
       "      <td>59.329324</td>\n",
       "      <td>18.068581</td>\n",
       "    </tr>\n",
       "    <tr>\n",
       "      <th>4</th>\n",
       "      <td>2019-04-01 16:57:25 +02:00</td>\n",
       "      <td>127503</td>\n",
       "      <td>59.858564,17.638927</td>\n",
       "      <td>Uppsala</td>\n",
       "      <td>01 april 16:57, Stöld, Uppsala</td>\n",
       "      <td>Berusad kvinna misstänks för ringa stöld</td>\n",
       "      <td>Stöld</td>\n",
       "      <td>https://polisen.se/aktuellt/handelser/2019/apr...</td>\n",
       "      <td>59.858564</td>\n",
       "      <td>17.638927</td>\n",
       "    </tr>\n",
       "  </tbody>\n",
       "</table>\n",
       "</div>"
      ],
      "text/plain": [
       "                     datetime      id         location.gps location.name  \\\n",
       "0  2019-04-03 18:51:43 +02:00  127872  59.329324,18.068581     Stockholm   \n",
       "1  2019-04-03 11:18:15 +02:00  127804  59.329324,18.068581     Stockholm   \n",
       "2   2019-04-03 9:17:26 +02:00  127795    57.70887,11.97456      Göteborg   \n",
       "3  2019-04-01 18:07:17 +02:00  127500  59.329324,18.068581     Stockholm   \n",
       "4  2019-04-01 16:57:25 +02:00  127503  59.858564,17.638927       Uppsala   \n",
       "\n",
       "                               name  \\\n",
       "0  03 april 18:51, Stöld, Stockholm   \n",
       "1  03 april 11:18, Stöld, Stockholm   \n",
       "2   03 april 09:17, Stöld, Göteborg   \n",
       "3  01 april 18:07, Stöld, Stockholm   \n",
       "4    01 april 16:57, Stöld, Uppsala   \n",
       "\n",
       "                                             summary   type  \\\n",
       "0  Vittnet har sett två män i en vit skåpbil stjä...  Stöld   \n",
       "1  Ordningsvakt har gripit en person misstänkt fö...  Stöld   \n",
       "2  Vid Lillekärr Norra grips en man under pågåend...  Stöld   \n",
       "3  Tre män grips när lastar gods till en bil från...  Stöld   \n",
       "4          Berusad kvinna misstänks för ringa stöld   Stöld   \n",
       "\n",
       "                                                 url   Latitude  Longitude  \n",
       "0  https://polisen.se/aktuellt/handelser/2019/apr...  59.329324  18.068581  \n",
       "1  https://polisen.se/aktuellt/handelser/2019/apr...  59.329324  18.068581  \n",
       "2  https://polisen.se/aktuellt/handelser/2019/apr...   57.70887   11.97456  \n",
       "3  https://polisen.se/aktuellt/handelser/2019/apr...  59.329324  18.068581  \n",
       "4  https://polisen.se/aktuellt/handelser/2019/apr...  59.858564  17.638927  "
      ]
     },
     "execution_count": 49,
     "metadata": {},
     "output_type": "execute_result"
    }
   ],
   "source": [
    "# Show us the first few rows only \n",
    "df.head()"
   ]
  },
  {
   "cell_type": "code",
   "execution_count": 50,
   "metadata": {},
   "outputs": [
    {
     "data": {
      "text/plain": [
       "Stöld    5\n",
       "Name: type, dtype: int64"
      ]
     },
     "execution_count": 50,
     "metadata": {},
     "output_type": "execute_result"
    }
   ],
   "source": [
    "df[\"type\"].value_counts()"
   ]
  },
  {
   "cell_type": "code",
   "execution_count": 51,
   "metadata": {},
   "outputs": [
    {
     "data": {
      "text/plain": [
       "location.name  type \n",
       "Göteborg       Stöld    1\n",
       "Stockholm      Stöld    3\n",
       "Uppsala        Stöld    1\n",
       "dtype: int64"
      ]
     },
     "execution_count": 51,
     "metadata": {},
     "output_type": "execute_result"
    }
   ],
   "source": [
    "df.groupby([\"location.name\", \"type\"]).size()"
   ]
  },
  {
   "cell_type": "code",
   "execution_count": 52,
   "metadata": {},
   "outputs": [
    {
     "data": {
      "text/plain": [
       "type   location.name\n",
       "Stöld  Göteborg         1\n",
       "       Stockholm        3\n",
       "       Uppsala          1\n",
       "dtype: int64"
      ]
     },
     "execution_count": 52,
     "metadata": {},
     "output_type": "execute_result"
    }
   ],
   "source": [
    "df.groupby([\"type\", \"location.name\"]).size()"
   ]
  },
  {
   "cell_type": "code",
   "execution_count": null,
   "metadata": {},
   "outputs": [],
   "source": []
  }
 ],
 "metadata": {
  "kernelspec": {
   "display_name": "Python 3",
   "language": "python",
   "name": "python3"
  },
  "language_info": {
   "codemirror_mode": {
    "name": "ipython",
    "version": 3
   },
   "file_extension": ".py",
   "mimetype": "text/x-python",
   "name": "python",
   "nbconvert_exporter": "python",
   "pygments_lexer": "ipython3",
   "version": "3.6.6"
  }
 },
 "nbformat": 4,
 "nbformat_minor": 2
}
