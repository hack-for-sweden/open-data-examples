{
 "cells": [
  {
   "cell_type": "markdown",
   "metadata": {},
   "source": [
    "![polis](https://polisen.se/Areas/Polisen/Content/Images/Polisen.svg)\n",
    "# Polisen.se - API about recent police events\n",
    "\n",
    "With this API you can get information about events based on _when_, _where_ and _what_, for more details see [info about polisen.se's APIs](https://polisen.se/kontakt/om-webbplatsen/oppna-data/)."
   ]
  },
  {
   "cell_type": "markdown",
   "metadata": {},
   "source": [
    "## Example: let your browser make API requests\n",
    "\n",
    "Inspect and click the links to see how you get a [JSON](https://www.youtube.com/watch?v=iiADhChRriM) formatted response.\n",
    "\n",
    "- https://polisen.se/api\n",
    "  - [/events?locationname=Stockholm](https://polisen.se/api/events?locationname=Stockholm)\n",
    "  - [/events?type=Brand](https://polisen.se/api/events?type=Brand)\n",
    "  - [/events?DateTime=2021-03](https://polisen.se/api/events?DateTime=2021-03)\n",
    "  - [/events?DateTime=2021-03&type=Stöld&locationname=Stockholm](https://polisen.se/api/events?DateTime=2021-03&type=Stöld&locationname=Stockholm)"
   ]
  },
  {
   "cell_type": "markdown",
   "metadata": {},
   "source": [
    "## Example: letting Python make API requests\n",
    "\n",
    "Inspect and run the code to see how Python can be used to extract data from the API."
   ]
  },
  {
   "cell_type": "code",
   "execution_count": 1,
   "metadata": {},
   "outputs": [
    {
     "data": {
      "text/plain": [
       "'https://polisen.se/api/events?DateTime=2021-03&type=Stöld&locationname=Stockholm;Göteborg;Malmö;Uppsala'"
      ]
     },
     "execution_count": 1,
     "metadata": {},
     "output_type": "execute_result"
    }
   ],
   "source": [
    "# Declare an API request to make\n",
    "# NOTE: you may need to update the year/month if you get no responses\n",
    "base_url = \"https://polisen.se/api\"\n",
    "endpoint = \"/events?DateTime=2021-03&type=Stöld&locationname=Stockholm;Göteborg;Malmö;Uppsala\"\n",
    "url = base_url + endpoint\n",
    "\n",
    "url"
   ]
  },
  {
   "cell_type": "code",
   "execution_count": 2,
   "metadata": {},
   "outputs": [],
   "source": [
    "import requests\n",
    "import json\n",
    "\n",
    "# Call the API\n",
    "req = requests.get(url)\n",
    "\n",
    "# Ensure we fail fast if the web request failed\n",
    "req.raise_for_status()\n",
    "data = json.loads(req.text)"
   ]
  },
  {
   "cell_type": "code",
   "execution_count": 3,
   "metadata": {},
   "outputs": [
    {
     "data": {
      "application/json": [
       {
        "datetime": "2021-03-16 15:43:00 +01:00",
        "id": 255462,
        "location": {
         "gps": "59.329324,18.068581",
         "name": "Stockholm"
        },
        "name": "16 mars 15:43, Stöld, Stockholm",
        "summary": "En man har ertappats med att stjäla kött i en större matbutik i Sundbyberg. Han sprang då från platsen i riktning mot Bromma.",
        "type": "Stöld",
        "url": "https://polisen.se/aktuellt/handelser/2021/mars/16/16-mars-1543-stold-stockholm/"
       },
       {
        "datetime": "2021-03-14 9:20:00 +01:00",
        "id": 255268,
        "location": {
         "gps": "59.858564,17.638927",
         "name": "Uppsala"
        },
        "name": "14 mars 09:20, Stöld, Uppsala",
        "summary": "Fyra personer gripna misstänkta för att ha hanterat stöldgods",
        "type": "Stöld",
        "url": "https://polisen.se/aktuellt/handelser/2021/mars/14/14-mars-0920-stold-uppsala/"
       },
       {
        "datetime": "2021-03-14 23:25:00 +01:00",
        "id": 255233,
        "location": {
         "gps": "59.329324,18.068581",
         "name": "Stockholm"
        },
        "name": "14 mars 23:25, Stöld, Stockholm",
        "summary": "En skåpbil med flera personer har setts lämna en byggarbetsplats vid Roslagstull efter att ha lastat in något i skåpet.",
        "type": "Stöld",
        "url": "https://polisen.se/aktuellt/handelser/2021/mars/14/14-mars-2325-stold-stockholm/"
       },
       {
        "datetime": "2021-03-10 1:56:00 +01:00",
        "id": 254574,
        "location": {
         "gps": "59.329324,18.068581",
         "name": "Stockholm"
        },
        "name": "10 mars 01:56, Stöld, Stockholm",
        "summary": "Ordningsvakter vid T-centralen grep den man som är misstänkt för grov stöld.",
        "type": "Stöld",
        "url": "https://polisen.se/aktuellt/handelser/2021/mars/10/10-mars-0156-stold-stockholm/"
       },
       {
        "datetime": "2021-03-07 10:28:00 +01:00",
        "id": 253596,
        "location": {
         "gps": "59.858564,17.638927",
         "name": "Uppsala"
        },
        "name": "07 mars 10:28, Stöld, Uppsala",
        "summary": "Tre personer stjäl på en stormarknad.",
        "type": "Stöld",
        "url": "https://polisen.se/aktuellt/handelser/2021/mars/7/07-mars-1028-stold-uppsala/"
       },
       {
        "datetime": "2021-03-06 6:58:00 +01:00",
        "id": 253498,
        "location": {
         "gps": "59.858564,17.638927",
         "name": "Uppsala"
        },
        "name": "06 mars 06:58, Stöld, Uppsala",
        "summary": "Stöld av ratt från personbil.",
        "type": "Stöld",
        "url": "https://polisen.se/aktuellt/handelser/2021/mars/6/06-mars-0658-stold-uppsala/"
       },
       {
        "datetime": "2021-03-03 8:04:00 +01:00",
        "id": 253033,
        "location": {
         "gps": "59.329324,18.068581",
         "name": "Stockholm"
        },
        "name": "03 mars 08:04, Stöld, Stockholm",
        "summary": "Okänd gärningsperson är misstänkt för stöld genom att ha krossat en ruta på en parkerad personbil på Hammarby Fabriksväg.",
        "type": "Stöld",
        "url": "https://polisen.se/aktuellt/handelser/2021/mars/3/03-mars-0804-stold-stockholm/"
       },
       {
        "datetime": "2021-03-03 3:25:00 +01:00",
        "id": 253014,
        "location": {
         "gps": "59.329324,18.068581",
         "name": "Stockholm"
        },
        "name": "03 mars 03:25, Stöld, Stockholm",
        "summary": "Polisen fick samtal från hotellpersonal i Vasastaden efter att ett brottsoffer blivit bestulen inne på hotellet.",
        "type": "Stöld",
        "url": "https://polisen.se/aktuellt/handelser/2021/mars/3/03-mars-0325-stold-stockholm/"
       },
       {
        "datetime": "2021-03-01 4:45:00 +01:00",
        "id": 252612,
        "location": {
         "gps": "59.329324,18.068581",
         "name": "Stockholm"
        },
        "name": "01 mars 04:45, Stöld, Stockholm",
        "summary": "På Kungsgatan grep polisen den man som är misstänkt för stöld alternativt häleri.",
        "type": "Stöld",
        "url": "https://polisen.se/aktuellt/handelser/2021/mars/1/01-mars-0445-stold-stockholm/"
       }
      ],
      "text/plain": [
       "<IPython.core.display.JSON object>"
      ]
     },
     "execution_count": 3,
     "metadata": {
      "application/json": {
       "expanded": false,
       "root": "root"
      }
     },
     "output_type": "execute_result"
    }
   ],
   "source": [
    "from IPython.display import JSON\n",
    "\n",
    "# Print the data nicely\n",
    "JSON(data)"
   ]
  },
  {
   "cell_type": "code",
   "execution_count": 4,
   "metadata": {},
   "outputs": [],
   "source": [
    "# Load the JSON data into a pandas dataframe to help us work with it\n",
    "import pandas as pd\n",
    "from pandas.io.json import json_normalize\n",
    "\n",
    "df = pd.json_normalize(data)"
   ]
  },
  {
   "cell_type": "code",
   "execution_count": 5,
   "metadata": {},
   "outputs": [
    {
     "data": {
      "text/html": [
       "<div>\n",
       "<style scoped>\n",
       "    .dataframe tbody tr th:only-of-type {\n",
       "        vertical-align: middle;\n",
       "    }\n",
       "\n",
       "    .dataframe tbody tr th {\n",
       "        vertical-align: top;\n",
       "    }\n",
       "\n",
       "    .dataframe thead th {\n",
       "        text-align: right;\n",
       "    }\n",
       "</style>\n",
       "<table border=\"1\" class=\"dataframe\">\n",
       "  <thead>\n",
       "    <tr style=\"text-align: right;\">\n",
       "      <th></th>\n",
       "      <th>id</th>\n",
       "      <th>datetime</th>\n",
       "      <th>name</th>\n",
       "      <th>summary</th>\n",
       "      <th>url</th>\n",
       "      <th>type</th>\n",
       "      <th>location.name</th>\n",
       "      <th>location.gps</th>\n",
       "    </tr>\n",
       "  </thead>\n",
       "  <tbody>\n",
       "    <tr>\n",
       "      <th>0</th>\n",
       "      <td>255462</td>\n",
       "      <td>2021-03-16 15:43:00 +01:00</td>\n",
       "      <td>16 mars 15:43, Stöld, Stockholm</td>\n",
       "      <td>En man har ertappats med att stjäla kött i en ...</td>\n",
       "      <td>https://polisen.se/aktuellt/handelser/2021/mar...</td>\n",
       "      <td>Stöld</td>\n",
       "      <td>Stockholm</td>\n",
       "      <td>59.329324,18.068581</td>\n",
       "    </tr>\n",
       "    <tr>\n",
       "      <th>1</th>\n",
       "      <td>255268</td>\n",
       "      <td>2021-03-14 9:20:00 +01:00</td>\n",
       "      <td>14 mars 09:20, Stöld, Uppsala</td>\n",
       "      <td>Fyra personer gripna misstänkta för att ha han...</td>\n",
       "      <td>https://polisen.se/aktuellt/handelser/2021/mar...</td>\n",
       "      <td>Stöld</td>\n",
       "      <td>Uppsala</td>\n",
       "      <td>59.858564,17.638927</td>\n",
       "    </tr>\n",
       "    <tr>\n",
       "      <th>2</th>\n",
       "      <td>255233</td>\n",
       "      <td>2021-03-14 23:25:00 +01:00</td>\n",
       "      <td>14 mars 23:25, Stöld, Stockholm</td>\n",
       "      <td>En skåpbil med flera personer har setts lämna ...</td>\n",
       "      <td>https://polisen.se/aktuellt/handelser/2021/mar...</td>\n",
       "      <td>Stöld</td>\n",
       "      <td>Stockholm</td>\n",
       "      <td>59.329324,18.068581</td>\n",
       "    </tr>\n",
       "    <tr>\n",
       "      <th>3</th>\n",
       "      <td>254574</td>\n",
       "      <td>2021-03-10 1:56:00 +01:00</td>\n",
       "      <td>10 mars 01:56, Stöld, Stockholm</td>\n",
       "      <td>Ordningsvakter vid T-centralen grep den man so...</td>\n",
       "      <td>https://polisen.se/aktuellt/handelser/2021/mar...</td>\n",
       "      <td>Stöld</td>\n",
       "      <td>Stockholm</td>\n",
       "      <td>59.329324,18.068581</td>\n",
       "    </tr>\n",
       "    <tr>\n",
       "      <th>4</th>\n",
       "      <td>253596</td>\n",
       "      <td>2021-03-07 10:28:00 +01:00</td>\n",
       "      <td>07 mars 10:28, Stöld, Uppsala</td>\n",
       "      <td>Tre personer stjäl på en stormarknad.</td>\n",
       "      <td>https://polisen.se/aktuellt/handelser/2021/mar...</td>\n",
       "      <td>Stöld</td>\n",
       "      <td>Uppsala</td>\n",
       "      <td>59.858564,17.638927</td>\n",
       "    </tr>\n",
       "  </tbody>\n",
       "</table>\n",
       "</div>"
      ],
      "text/plain": [
       "       id                    datetime                             name  \\\n",
       "0  255462  2021-03-16 15:43:00 +01:00  16 mars 15:43, Stöld, Stockholm   \n",
       "1  255268   2021-03-14 9:20:00 +01:00    14 mars 09:20, Stöld, Uppsala   \n",
       "2  255233  2021-03-14 23:25:00 +01:00  14 mars 23:25, Stöld, Stockholm   \n",
       "3  254574   2021-03-10 1:56:00 +01:00  10 mars 01:56, Stöld, Stockholm   \n",
       "4  253596  2021-03-07 10:28:00 +01:00    07 mars 10:28, Stöld, Uppsala   \n",
       "\n",
       "                                             summary  \\\n",
       "0  En man har ertappats med att stjäla kött i en ...   \n",
       "1  Fyra personer gripna misstänkta för att ha han...   \n",
       "2  En skåpbil med flera personer har setts lämna ...   \n",
       "3  Ordningsvakter vid T-centralen grep den man so...   \n",
       "4              Tre personer stjäl på en stormarknad.   \n",
       "\n",
       "                                                 url   type location.name  \\\n",
       "0  https://polisen.se/aktuellt/handelser/2021/mar...  Stöld     Stockholm   \n",
       "1  https://polisen.se/aktuellt/handelser/2021/mar...  Stöld       Uppsala   \n",
       "2  https://polisen.se/aktuellt/handelser/2021/mar...  Stöld     Stockholm   \n",
       "3  https://polisen.se/aktuellt/handelser/2021/mar...  Stöld     Stockholm   \n",
       "4  https://polisen.se/aktuellt/handelser/2021/mar...  Stöld       Uppsala   \n",
       "\n",
       "          location.gps  \n",
       "0  59.329324,18.068581  \n",
       "1  59.858564,17.638927  \n",
       "2  59.329324,18.068581  \n",
       "3  59.329324,18.068581  \n",
       "4  59.858564,17.638927  "
      ]
     },
     "execution_count": 5,
     "metadata": {},
     "output_type": "execute_result"
    }
   ],
   "source": [
    "# Show the first entries\n",
    "df.head()"
   ]
  },
  {
   "cell_type": "code",
   "execution_count": 6,
   "metadata": {},
   "outputs": [
    {
     "data": {
      "text/html": [
       "<div>\n",
       "<style scoped>\n",
       "    .dataframe tbody tr th:only-of-type {\n",
       "        vertical-align: middle;\n",
       "    }\n",
       "\n",
       "    .dataframe tbody tr th {\n",
       "        vertical-align: top;\n",
       "    }\n",
       "\n",
       "    .dataframe thead th {\n",
       "        text-align: right;\n",
       "    }\n",
       "</style>\n",
       "<table border=\"1\" class=\"dataframe\">\n",
       "  <thead>\n",
       "    <tr style=\"text-align: right;\">\n",
       "      <th></th>\n",
       "      <th>id</th>\n",
       "      <th>datetime</th>\n",
       "      <th>name</th>\n",
       "      <th>summary</th>\n",
       "      <th>url</th>\n",
       "      <th>type</th>\n",
       "      <th>location.name</th>\n",
       "      <th>Latitude</th>\n",
       "      <th>Longitude</th>\n",
       "    </tr>\n",
       "  </thead>\n",
       "  <tbody>\n",
       "    <tr>\n",
       "      <th>0</th>\n",
       "      <td>255462</td>\n",
       "      <td>2021-03-16 15:43:00 +01:00</td>\n",
       "      <td>16 mars 15:43, Stöld, Stockholm</td>\n",
       "      <td>En man har ertappats med att stjäla kött i en ...</td>\n",
       "      <td>https://polisen.se/aktuellt/handelser/2021/mar...</td>\n",
       "      <td>Stöld</td>\n",
       "      <td>Stockholm</td>\n",
       "      <td>59.329324</td>\n",
       "      <td>18.068581</td>\n",
       "    </tr>\n",
       "    <tr>\n",
       "      <th>1</th>\n",
       "      <td>255268</td>\n",
       "      <td>2021-03-14 9:20:00 +01:00</td>\n",
       "      <td>14 mars 09:20, Stöld, Uppsala</td>\n",
       "      <td>Fyra personer gripna misstänkta för att ha han...</td>\n",
       "      <td>https://polisen.se/aktuellt/handelser/2021/mar...</td>\n",
       "      <td>Stöld</td>\n",
       "      <td>Uppsala</td>\n",
       "      <td>59.858564</td>\n",
       "      <td>17.638927</td>\n",
       "    </tr>\n",
       "    <tr>\n",
       "      <th>2</th>\n",
       "      <td>255233</td>\n",
       "      <td>2021-03-14 23:25:00 +01:00</td>\n",
       "      <td>14 mars 23:25, Stöld, Stockholm</td>\n",
       "      <td>En skåpbil med flera personer har setts lämna ...</td>\n",
       "      <td>https://polisen.se/aktuellt/handelser/2021/mar...</td>\n",
       "      <td>Stöld</td>\n",
       "      <td>Stockholm</td>\n",
       "      <td>59.329324</td>\n",
       "      <td>18.068581</td>\n",
       "    </tr>\n",
       "    <tr>\n",
       "      <th>3</th>\n",
       "      <td>254574</td>\n",
       "      <td>2021-03-10 1:56:00 +01:00</td>\n",
       "      <td>10 mars 01:56, Stöld, Stockholm</td>\n",
       "      <td>Ordningsvakter vid T-centralen grep den man so...</td>\n",
       "      <td>https://polisen.se/aktuellt/handelser/2021/mar...</td>\n",
       "      <td>Stöld</td>\n",
       "      <td>Stockholm</td>\n",
       "      <td>59.329324</td>\n",
       "      <td>18.068581</td>\n",
       "    </tr>\n",
       "    <tr>\n",
       "      <th>4</th>\n",
       "      <td>253596</td>\n",
       "      <td>2021-03-07 10:28:00 +01:00</td>\n",
       "      <td>07 mars 10:28, Stöld, Uppsala</td>\n",
       "      <td>Tre personer stjäl på en stormarknad.</td>\n",
       "      <td>https://polisen.se/aktuellt/handelser/2021/mar...</td>\n",
       "      <td>Stöld</td>\n",
       "      <td>Uppsala</td>\n",
       "      <td>59.858564</td>\n",
       "      <td>17.638927</td>\n",
       "    </tr>\n",
       "    <tr>\n",
       "      <th>5</th>\n",
       "      <td>253498</td>\n",
       "      <td>2021-03-06 6:58:00 +01:00</td>\n",
       "      <td>06 mars 06:58, Stöld, Uppsala</td>\n",
       "      <td>Stöld av ratt från personbil.</td>\n",
       "      <td>https://polisen.se/aktuellt/handelser/2021/mar...</td>\n",
       "      <td>Stöld</td>\n",
       "      <td>Uppsala</td>\n",
       "      <td>59.858564</td>\n",
       "      <td>17.638927</td>\n",
       "    </tr>\n",
       "    <tr>\n",
       "      <th>6</th>\n",
       "      <td>253033</td>\n",
       "      <td>2021-03-03 8:04:00 +01:00</td>\n",
       "      <td>03 mars 08:04, Stöld, Stockholm</td>\n",
       "      <td>Okänd gärningsperson är misstänkt för stöld ge...</td>\n",
       "      <td>https://polisen.se/aktuellt/handelser/2021/mar...</td>\n",
       "      <td>Stöld</td>\n",
       "      <td>Stockholm</td>\n",
       "      <td>59.329324</td>\n",
       "      <td>18.068581</td>\n",
       "    </tr>\n",
       "    <tr>\n",
       "      <th>7</th>\n",
       "      <td>253014</td>\n",
       "      <td>2021-03-03 3:25:00 +01:00</td>\n",
       "      <td>03 mars 03:25, Stöld, Stockholm</td>\n",
       "      <td>Polisen fick samtal från hotellpersonal i Vasa...</td>\n",
       "      <td>https://polisen.se/aktuellt/handelser/2021/mar...</td>\n",
       "      <td>Stöld</td>\n",
       "      <td>Stockholm</td>\n",
       "      <td>59.329324</td>\n",
       "      <td>18.068581</td>\n",
       "    </tr>\n",
       "    <tr>\n",
       "      <th>8</th>\n",
       "      <td>252612</td>\n",
       "      <td>2021-03-01 4:45:00 +01:00</td>\n",
       "      <td>01 mars 04:45, Stöld, Stockholm</td>\n",
       "      <td>På Kungsgatan grep polisen den man som är miss...</td>\n",
       "      <td>https://polisen.se/aktuellt/handelser/2021/mar...</td>\n",
       "      <td>Stöld</td>\n",
       "      <td>Stockholm</td>\n",
       "      <td>59.329324</td>\n",
       "      <td>18.068581</td>\n",
       "    </tr>\n",
       "  </tbody>\n",
       "</table>\n",
       "</div>"
      ],
      "text/plain": [
       "       id                    datetime                             name  \\\n",
       "0  255462  2021-03-16 15:43:00 +01:00  16 mars 15:43, Stöld, Stockholm   \n",
       "1  255268   2021-03-14 9:20:00 +01:00    14 mars 09:20, Stöld, Uppsala   \n",
       "2  255233  2021-03-14 23:25:00 +01:00  14 mars 23:25, Stöld, Stockholm   \n",
       "3  254574   2021-03-10 1:56:00 +01:00  10 mars 01:56, Stöld, Stockholm   \n",
       "4  253596  2021-03-07 10:28:00 +01:00    07 mars 10:28, Stöld, Uppsala   \n",
       "5  253498   2021-03-06 6:58:00 +01:00    06 mars 06:58, Stöld, Uppsala   \n",
       "6  253033   2021-03-03 8:04:00 +01:00  03 mars 08:04, Stöld, Stockholm   \n",
       "7  253014   2021-03-03 3:25:00 +01:00  03 mars 03:25, Stöld, Stockholm   \n",
       "8  252612   2021-03-01 4:45:00 +01:00  01 mars 04:45, Stöld, Stockholm   \n",
       "\n",
       "                                             summary  \\\n",
       "0  En man har ertappats med att stjäla kött i en ...   \n",
       "1  Fyra personer gripna misstänkta för att ha han...   \n",
       "2  En skåpbil med flera personer har setts lämna ...   \n",
       "3  Ordningsvakter vid T-centralen grep den man so...   \n",
       "4              Tre personer stjäl på en stormarknad.   \n",
       "5                      Stöld av ratt från personbil.   \n",
       "6  Okänd gärningsperson är misstänkt för stöld ge...   \n",
       "7  Polisen fick samtal från hotellpersonal i Vasa...   \n",
       "8  På Kungsgatan grep polisen den man som är miss...   \n",
       "\n",
       "                                                 url   type location.name  \\\n",
       "0  https://polisen.se/aktuellt/handelser/2021/mar...  Stöld     Stockholm   \n",
       "1  https://polisen.se/aktuellt/handelser/2021/mar...  Stöld       Uppsala   \n",
       "2  https://polisen.se/aktuellt/handelser/2021/mar...  Stöld     Stockholm   \n",
       "3  https://polisen.se/aktuellt/handelser/2021/mar...  Stöld     Stockholm   \n",
       "4  https://polisen.se/aktuellt/handelser/2021/mar...  Stöld       Uppsala   \n",
       "5  https://polisen.se/aktuellt/handelser/2021/mar...  Stöld       Uppsala   \n",
       "6  https://polisen.se/aktuellt/handelser/2021/mar...  Stöld     Stockholm   \n",
       "7  https://polisen.se/aktuellt/handelser/2021/mar...  Stöld     Stockholm   \n",
       "8  https://polisen.se/aktuellt/handelser/2021/mar...  Stöld     Stockholm   \n",
       "\n",
       "    Latitude  Longitude  \n",
       "0  59.329324  18.068581  \n",
       "1  59.858564  17.638927  \n",
       "2  59.329324  18.068581  \n",
       "3  59.329324  18.068581  \n",
       "4  59.858564  17.638927  \n",
       "5  59.858564  17.638927  \n",
       "6  59.329324  18.068581  \n",
       "7  59.329324  18.068581  \n",
       "8  59.329324  18.068581  "
      ]
     },
     "execution_count": 6,
     "metadata": {},
     "output_type": "execute_result"
    }
   ],
   "source": [
    "# Create two new columns, one Latitude and one Longitude, using data in location.gps\n",
    "df[['Latitude', 'Longitude']] = df['location.gps'].str.split(\",\", expand=True)\n",
    "# Remove the old column\n",
    "df.drop(labels='location.gps', axis=1)"
   ]
  },
  {
   "cell_type": "code",
   "execution_count": 7,
   "metadata": {},
   "outputs": [
    {
     "data": {
      "text/html": [
       "<div>\n",
       "<style scoped>\n",
       "    .dataframe tbody tr th:only-of-type {\n",
       "        vertical-align: middle;\n",
       "    }\n",
       "\n",
       "    .dataframe tbody tr th {\n",
       "        vertical-align: top;\n",
       "    }\n",
       "\n",
       "    .dataframe thead th {\n",
       "        text-align: right;\n",
       "    }\n",
       "</style>\n",
       "<table border=\"1\" class=\"dataframe\">\n",
       "  <thead>\n",
       "    <tr style=\"text-align: right;\">\n",
       "      <th></th>\n",
       "      <th>id</th>\n",
       "      <th>datetime</th>\n",
       "      <th>name</th>\n",
       "      <th>summary</th>\n",
       "      <th>url</th>\n",
       "      <th>type</th>\n",
       "      <th>location.name</th>\n",
       "      <th>location.gps</th>\n",
       "      <th>Latitude</th>\n",
       "      <th>Longitude</th>\n",
       "    </tr>\n",
       "  </thead>\n",
       "  <tbody>\n",
       "    <tr>\n",
       "      <th>0</th>\n",
       "      <td>255462</td>\n",
       "      <td>2021-03-16 15:43:00 +01:00</td>\n",
       "      <td>16 mars 15:43, Stöld, Stockholm</td>\n",
       "      <td>En man har ertappats med att stjäla kött i en ...</td>\n",
       "      <td>https://polisen.se/aktuellt/handelser/2021/mar...</td>\n",
       "      <td>Stöld</td>\n",
       "      <td>Stockholm</td>\n",
       "      <td>59.329324,18.068581</td>\n",
       "      <td>59.329324</td>\n",
       "      <td>18.068581</td>\n",
       "    </tr>\n",
       "    <tr>\n",
       "      <th>1</th>\n",
       "      <td>255268</td>\n",
       "      <td>2021-03-14 9:20:00 +01:00</td>\n",
       "      <td>14 mars 09:20, Stöld, Uppsala</td>\n",
       "      <td>Fyra personer gripna misstänkta för att ha han...</td>\n",
       "      <td>https://polisen.se/aktuellt/handelser/2021/mar...</td>\n",
       "      <td>Stöld</td>\n",
       "      <td>Uppsala</td>\n",
       "      <td>59.858564,17.638927</td>\n",
       "      <td>59.858564</td>\n",
       "      <td>17.638927</td>\n",
       "    </tr>\n",
       "    <tr>\n",
       "      <th>2</th>\n",
       "      <td>255233</td>\n",
       "      <td>2021-03-14 23:25:00 +01:00</td>\n",
       "      <td>14 mars 23:25, Stöld, Stockholm</td>\n",
       "      <td>En skåpbil med flera personer har setts lämna ...</td>\n",
       "      <td>https://polisen.se/aktuellt/handelser/2021/mar...</td>\n",
       "      <td>Stöld</td>\n",
       "      <td>Stockholm</td>\n",
       "      <td>59.329324,18.068581</td>\n",
       "      <td>59.329324</td>\n",
       "      <td>18.068581</td>\n",
       "    </tr>\n",
       "    <tr>\n",
       "      <th>3</th>\n",
       "      <td>254574</td>\n",
       "      <td>2021-03-10 1:56:00 +01:00</td>\n",
       "      <td>10 mars 01:56, Stöld, Stockholm</td>\n",
       "      <td>Ordningsvakter vid T-centralen grep den man so...</td>\n",
       "      <td>https://polisen.se/aktuellt/handelser/2021/mar...</td>\n",
       "      <td>Stöld</td>\n",
       "      <td>Stockholm</td>\n",
       "      <td>59.329324,18.068581</td>\n",
       "      <td>59.329324</td>\n",
       "      <td>18.068581</td>\n",
       "    </tr>\n",
       "    <tr>\n",
       "      <th>4</th>\n",
       "      <td>253596</td>\n",
       "      <td>2021-03-07 10:28:00 +01:00</td>\n",
       "      <td>07 mars 10:28, Stöld, Uppsala</td>\n",
       "      <td>Tre personer stjäl på en stormarknad.</td>\n",
       "      <td>https://polisen.se/aktuellt/handelser/2021/mar...</td>\n",
       "      <td>Stöld</td>\n",
       "      <td>Uppsala</td>\n",
       "      <td>59.858564,17.638927</td>\n",
       "      <td>59.858564</td>\n",
       "      <td>17.638927</td>\n",
       "    </tr>\n",
       "  </tbody>\n",
       "</table>\n",
       "</div>"
      ],
      "text/plain": [
       "       id                    datetime                             name  \\\n",
       "0  255462  2021-03-16 15:43:00 +01:00  16 mars 15:43, Stöld, Stockholm   \n",
       "1  255268   2021-03-14 9:20:00 +01:00    14 mars 09:20, Stöld, Uppsala   \n",
       "2  255233  2021-03-14 23:25:00 +01:00  14 mars 23:25, Stöld, Stockholm   \n",
       "3  254574   2021-03-10 1:56:00 +01:00  10 mars 01:56, Stöld, Stockholm   \n",
       "4  253596  2021-03-07 10:28:00 +01:00    07 mars 10:28, Stöld, Uppsala   \n",
       "\n",
       "                                             summary  \\\n",
       "0  En man har ertappats med att stjäla kött i en ...   \n",
       "1  Fyra personer gripna misstänkta för att ha han...   \n",
       "2  En skåpbil med flera personer har setts lämna ...   \n",
       "3  Ordningsvakter vid T-centralen grep den man so...   \n",
       "4              Tre personer stjäl på en stormarknad.   \n",
       "\n",
       "                                                 url   type location.name  \\\n",
       "0  https://polisen.se/aktuellt/handelser/2021/mar...  Stöld     Stockholm   \n",
       "1  https://polisen.se/aktuellt/handelser/2021/mar...  Stöld       Uppsala   \n",
       "2  https://polisen.se/aktuellt/handelser/2021/mar...  Stöld     Stockholm   \n",
       "3  https://polisen.se/aktuellt/handelser/2021/mar...  Stöld     Stockholm   \n",
       "4  https://polisen.se/aktuellt/handelser/2021/mar...  Stöld       Uppsala   \n",
       "\n",
       "          location.gps   Latitude  Longitude  \n",
       "0  59.329324,18.068581  59.329324  18.068581  \n",
       "1  59.858564,17.638927  59.858564  17.638927  \n",
       "2  59.329324,18.068581  59.329324  18.068581  \n",
       "3  59.329324,18.068581  59.329324  18.068581  \n",
       "4  59.858564,17.638927  59.858564  17.638927  "
      ]
     },
     "execution_count": 7,
     "metadata": {},
     "output_type": "execute_result"
    }
   ],
   "source": [
    "# Show us the first few rows only \n",
    "df.head()"
   ]
  },
  {
   "cell_type": "code",
   "execution_count": 8,
   "metadata": {},
   "outputs": [
    {
     "data": {
      "text/plain": [
       "Stöld    9\n",
       "Name: type, dtype: int64"
      ]
     },
     "execution_count": 8,
     "metadata": {},
     "output_type": "execute_result"
    }
   ],
   "source": [
    "df[\"type\"].value_counts()"
   ]
  },
  {
   "cell_type": "code",
   "execution_count": 9,
   "metadata": {},
   "outputs": [
    {
     "data": {
      "text/plain": [
       "location.name  type \n",
       "Stockholm      Stöld    6\n",
       "Uppsala        Stöld    3\n",
       "dtype: int64"
      ]
     },
     "execution_count": 9,
     "metadata": {},
     "output_type": "execute_result"
    }
   ],
   "source": [
    "df.groupby([\"location.name\", \"type\"]).size()"
   ]
  },
  {
   "cell_type": "code",
   "execution_count": 10,
   "metadata": {},
   "outputs": [
    {
     "data": {
      "text/plain": [
       "type   location.name\n",
       "Stöld  Stockholm        6\n",
       "       Uppsala          3\n",
       "dtype: int64"
      ]
     },
     "execution_count": 10,
     "metadata": {},
     "output_type": "execute_result"
    }
   ],
   "source": [
    "df.groupby([\"type\", \"location.name\"]).size()"
   ]
  }
 ],
 "metadata": {
  "kernelspec": {
   "display_name": "Python 3",
   "language": "python",
   "name": "python3"
  },
  "language_info": {
   "codemirror_mode": {
    "name": "ipython",
    "version": 3
   },
   "file_extension": ".py",
   "mimetype": "text/x-python",
   "name": "python",
   "nbconvert_exporter": "python",
   "pygments_lexer": "ipython3",
   "version": "3.7.10"
  }
 },
 "nbformat": 4,
 "nbformat_minor": 4
}
